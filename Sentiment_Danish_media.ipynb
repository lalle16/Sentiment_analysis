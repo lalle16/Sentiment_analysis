{
 "cells": [
  {
   "cell_type": "markdown",
   "id": "9fe5fad3-9489-4411-a3b8-189c3b814b82",
   "metadata": {},
   "source": [
    "# Sentiment in popular Danish news"
   ]
  },
  {
   "cell_type": "markdown",
   "id": "2f86ce10-1930-4f7f-8b03-3208674272d2",
   "metadata": {},
   "source": [
    "When I read news, I sometimes suspect they may have a negative impact on my mood and general outlook. Therefore, I set out to analyze the sentiment on the most popular Danish media.\n",
    "\n",
    "Based on my own developed webscraper using BeautifulSoup and Selenium, I have gathered approximately 1800 news articles from:  \n",
    "- DR\n",
    "- TV2\n",
    "- Ekstrabladet\n",
    "- BT\n",
    "\n",
    "I use the Danish Sentida model to assess Sentiment in both news content and titles.  \n",
    "Moreover, I use spaCy for Named Entity Recognition to explore, which entities receive the most negative and positive sentiment.  \n",
    "\n",
    "I have mainly analyzed the results in Tableau, but a brief analysis can be found by the end of the notebook.   \n",
    "In general, I find that the results on the news make sense, but additionally, I ran the sentiment model on a Mr. Bean play and H.C. Andersens \"Den lille pige med svovlstikkerne\" to get a baseline for corpora that I believed to be very positive and negative, respectively. The results did not turn out the way I expected, which may indicate a limitation of Sentida, especially when it comes to subtle comedy."
   ]
  },
  {
   "cell_type": "code",
   "execution_count": 1,
   "id": "8d129339-3f7e-4bed-a391-0c99af744866",
   "metadata": {},
   "outputs": [],
   "source": [
    "import pandas as pd\n",
    "import numpy as np\n",
    "import os\n",
    "import glob\n",
    "from sentida import Sentida\n",
    "import re\n",
    "import string\n",
    "from tqdm.notebook import tqdm_notebook\n",
    "import datetime\n",
    "import spacy\n",
    "from collections import Counter\n",
    "from sklearn.feature_extraction.text import CountVectorizer\n",
    "import seaborn as sns\n",
    "import numpy\n",
    "import matplotlib.pyplot as plt\n",
    "\n",
    "tqdm_notebook.pandas()\n",
    "pd.set_option('max_colwidth', 600)"
   ]
  },
  {
   "cell_type": "markdown",
   "id": "72f75f9b-1686-42c2-806e-d92e8baaa68c",
   "metadata": {},
   "source": [
    "### Import data and prepare for analysis"
   ]
  },
  {
   "cell_type": "code",
   "execution_count": 2,
   "id": "e60fa456-cf59-4711-bc85-e7cbd48204a8",
   "metadata": {
    "scrolled": true,
    "tags": []
   },
   "outputs": [],
   "source": [
    "# Import and collect all daily scraped files\n",
    "csvPath = r\"D:\\news\"\n",
    "\n",
    "df_list = []\n",
    "\n",
    "for f in glob.glob(csvPath + \"\\*.csv\"):\n",
    "        df = pd.read_csv(f)\n",
    "        filename = (os.path.basename(f))\n",
    "        df['Filename'] = filename\n",
    "\n",
    "        df_list.append(df)\n",
    "\n",
    "article_df = pd.concat(df_list, ignore_index=True)\n",
    "\n",
    "# If not enough new daily articles, there will be duplicates\n",
    "article_df.drop_duplicates(subset='link',inplace=True)\n",
    "\n",
    "# LIVE links are not real articles and do not contain text\n",
    "article_df = article_df[article_df['content'].str.len() > 1]\n",
    "\n",
    "article_df.reset_index(inplace=True)\n",
    "article_df = article_df.drop(['index'],axis=1)"
   ]
  },
  {
   "cell_type": "code",
   "execution_count": 3,
   "id": "52b85505-a362-46f0-9bdf-9e83c54d970d",
   "metadata": {
    "scrolled": true,
    "tags": []
   },
   "outputs": [
    {
     "data": {
      "text/html": [
       "<div>\n",
       "<style scoped>\n",
       "    .dataframe tbody tr th:only-of-type {\n",
       "        vertical-align: middle;\n",
       "    }\n",
       "\n",
       "    .dataframe tbody tr th {\n",
       "        vertical-align: top;\n",
       "    }\n",
       "\n",
       "    .dataframe thead th {\n",
       "        text-align: right;\n",
       "    }\n",
       "</style>\n",
       "<table border=\"1\" class=\"dataframe\">\n",
       "  <thead>\n",
       "    <tr style=\"text-align: right;\">\n",
       "      <th></th>\n",
       "      <th>link</th>\n",
       "      <th>title</th>\n",
       "      <th>content</th>\n",
       "      <th>medie</th>\n",
       "      <th>Filename</th>\n",
       "    </tr>\n",
       "  </thead>\n",
       "  <tbody>\n",
       "    <tr>\n",
       "      <th>0</th>\n",
       "      <td>https://dr.dk//nyheder/seneste/filmstjernen-kevin-spacey-sigtet-fire-tilfaelde-af-seksuelle-overgreb</td>\n",
       "      <td>Filmstjernen Kevin Spacey sigtet for fire tilfælde af seksuelle overgreb</td>\n",
       "      <td>4 min. sidenFilmstjernen Kevin Spacey sigtet for fire tilfælde af seksuelle overgrebSkuespilleren Kevin Spacey har fået en del anklager imod sig om seksuelle overgreb, og nu er han også blevet sigtet. (Foto: SOCIAL MEDIA © Ritzau Scanpix)Læs opOrdbogTekstAf Frederik PalleDen britiske anklagemyndighed, Crown Prosecution Service, har i dag sigtet filmstjernen Kevin Spacey for fire tilfælde af seksuelle overgreb. Det skriver BBC.De seksuelle overgreb skulle være sket mod tre mænd.Kevin Spacey har i et langt stykke tid ikke været en del af film eller tv-serier på grund af andre anklager om ove...</td>\n",
       "      <td>DR</td>\n",
       "      <td>articles_2022-05-26.csv</td>\n",
       "    </tr>\n",
       "    <tr>\n",
       "      <th>1</th>\n",
       "      <td>https://dr.dk//nyheder/seneste/kampe-i-den-ukrainske-region-donbas-er-paa-sit-hidtil-mest-voldsomme-niveau</td>\n",
       "      <td>Kampe i den ukrainske region Donbas er på sit hidtil mest voldsomme niveau</td>\n",
       "      <td>24 min. sidenKampe i den ukrainske region Donbas er på sit hidtil mest voldsomme niveauLæs opOrdbogTekstAf Frederik PalleSituationen i Donbas-regionen i Ukraine er yderst anspændt lige nu. Det siger Ukraines viceforsvarsminister Ganna Malyar på et pressemøde torsdag ifølge AFP.Hun forklarer, at kampene lige nu er på sit hidtil voldsomste niveau.- Kampene har nået maksimal intensitet. Fjendtlige styrker stormer vores styrkers positioner samtidig fra forskellige retninger. Vi har et ekstremt svært og langt stadie af kampe foran os, siger hun.De russiske styrker har fokuseret på Donbas-region...</td>\n",
       "      <td>DR</td>\n",
       "      <td>articles_2022-05-26.csv</td>\n",
       "    </tr>\n",
       "    <tr>\n",
       "      <th>2</th>\n",
       "      <td>https://dr.dk//sporten/seneste-sport/franskmand-venter-holger-rune-i-french-open</td>\n",
       "      <td>Holger Rune får fransk modstand i French Open</td>\n",
       "      <td>51 min. sidenHolger Rune får fransk modstand i French OpenHolger Rune møder franske Hugo Gaston, når danskeren skal spille sin kamp i tredje runde ved French Open. (Foto: Jean-Francois Badias © Associated Press)Læs opOrdbogTekstDer venter fransk modstand for Holger Rune, når det danske tennis-es skal i aktion i tredje runde ved grand slam-turneringen French Open.Torsdag - et par timer efter at Rune havde spillet sig videre - vandt Hugo Gaston over argentinske Pedro Gachin.Dermed står det klart, at Rune og Gaston tørner sammen i tredje runde. Franskmanden ligger aktuelt nummer 74 på verdens...</td>\n",
       "      <td>DR</td>\n",
       "      <td>articles_2022-05-26.csv</td>\n",
       "    </tr>\n",
       "    <tr>\n",
       "      <th>3</th>\n",
       "      <td>https://dr.dk//nyheder/seneste/vaccine-til-abekopper-tilbydes-uden-eu-godkendelse-overlaege-finder-det-forsvarligt</td>\n",
       "      <td>Vaccine til abekopper tilbydes uden EU-godkendelse - overlæge finder det forsvarligt</td>\n",
       "      <td>I dag kl. 15:40Vaccine til abekopper tilbydes uden EU-godkendelse - overlæge finder det forsvarligtLæs opOrdbogTekstAf Frederik PalleI morgen ankommer der 200 doser af medicinvirksomheden Bavarian Nordics vaccine mod abekopper til Danmark. Den er ikke godkendt i EU.Overlæge og professor Thomas Benfield fra Infektionsmedicinsk Afdeling på Hvidovre Hospital mener dog, at det vil være forsvarligt at tilbyde vaccinen til nære kontakter af smittede.- Den er godkendt andre steder. Og formålet - at forhindre at nogle bliver syge - opvejer efter min mening, at den endnu ikke er godkendt, siger han...</td>\n",
       "      <td>DR</td>\n",
       "      <td>articles_2022-05-26.csv</td>\n",
       "    </tr>\n",
       "    <tr>\n",
       "      <th>4</th>\n",
       "      <td>https://dr.dk//nyheder/seneste/flere-testede-solcremer-indeholder-stoffer-mistaenkt-vaere-hormonforstyrrende</td>\n",
       "      <td>Flere testede solcremer indeholder stoffer mistænkt for at være hormonforstyrrende</td>\n",
       "      <td>I dag kl. 15:12Flere testede solcremer indeholder stoffer mistænkt for at være hormonforstyrrendeLæs opOrdbogTekstAf Casper Lindbjerg GreveEn test fra Forbrugerrådet Tænk Kemi viser, at flere solcremer indeholder mere end blot beskyttelse mod solstrålerne.Ud af 35 testede solcremer og solspray med solfaktor 30 indeholdt en tredjedel af de testede solcremer stoffer, som mistænkes at være hormonforstyrrende.Solcremerne er ikke i sig selv farlige, men gravide må gerne tænke sig om, lyder det fra Anna-Maria Andersson, der er seniorforsker på Rigshospitalet.- Som gravid vil jeg overveje at tage...</td>\n",
       "      <td>DR</td>\n",
       "      <td>articles_2022-05-26.csv</td>\n",
       "    </tr>\n",
       "  </tbody>\n",
       "</table>\n",
       "</div>"
      ],
      "text/plain": [
       "                                                                                                                 link  \\\n",
       "0                https://dr.dk//nyheder/seneste/filmstjernen-kevin-spacey-sigtet-fire-tilfaelde-af-seksuelle-overgreb   \n",
       "1          https://dr.dk//nyheder/seneste/kampe-i-den-ukrainske-region-donbas-er-paa-sit-hidtil-mest-voldsomme-niveau   \n",
       "2                                    https://dr.dk//sporten/seneste-sport/franskmand-venter-holger-rune-i-french-open   \n",
       "3  https://dr.dk//nyheder/seneste/vaccine-til-abekopper-tilbydes-uden-eu-godkendelse-overlaege-finder-det-forsvarligt   \n",
       "4        https://dr.dk//nyheder/seneste/flere-testede-solcremer-indeholder-stoffer-mistaenkt-vaere-hormonforstyrrende   \n",
       "\n",
       "                                                                                  title  \\\n",
       "0              Filmstjernen Kevin Spacey sigtet for fire tilfælde af seksuelle overgreb   \n",
       "1            Kampe i den ukrainske region Donbas er på sit hidtil mest voldsomme niveau   \n",
       "2                                         Holger Rune får fransk modstand i French Open   \n",
       "3  Vaccine til abekopper tilbydes uden EU-godkendelse - overlæge finder det forsvarligt   \n",
       "4    Flere testede solcremer indeholder stoffer mistænkt for at være hormonforstyrrende   \n",
       "\n",
       "                                                                                                                                                                                                                                                                                                                                                                                                                                                                                                                                                                                                                   content  \\\n",
       "0  4 min. sidenFilmstjernen Kevin Spacey sigtet for fire tilfælde af seksuelle overgrebSkuespilleren Kevin Spacey har fået en del anklager imod sig om seksuelle overgreb, og nu er han også blevet sigtet. (Foto: SOCIAL MEDIA © Ritzau Scanpix)Læs opOrdbogTekstAf Frederik PalleDen britiske anklagemyndighed, Crown Prosecution Service, har i dag sigtet filmstjernen Kevin Spacey for fire tilfælde af seksuelle overgreb. Det skriver BBC.De seksuelle overgreb skulle være sket mod tre mænd.Kevin Spacey har i et langt stykke tid ikke været en del af film eller tv-serier på grund af andre anklager om ove...   \n",
       "1  24 min. sidenKampe i den ukrainske region Donbas er på sit hidtil mest voldsomme niveauLæs opOrdbogTekstAf Frederik PalleSituationen i Donbas-regionen i Ukraine er yderst anspændt lige nu. Det siger Ukraines viceforsvarsminister Ganna Malyar på et pressemøde torsdag ifølge AFP.Hun forklarer, at kampene lige nu er på sit hidtil voldsomste niveau.- Kampene har nået maksimal intensitet. Fjendtlige styrker stormer vores styrkers positioner samtidig fra forskellige retninger. Vi har et ekstremt svært og langt stadie af kampe foran os, siger hun.De russiske styrker har fokuseret på Donbas-region...   \n",
       "2  51 min. sidenHolger Rune får fransk modstand i French OpenHolger Rune møder franske Hugo Gaston, når danskeren skal spille sin kamp i tredje runde ved French Open. (Foto: Jean-Francois Badias © Associated Press)Læs opOrdbogTekstDer venter fransk modstand for Holger Rune, når det danske tennis-es skal i aktion i tredje runde ved grand slam-turneringen French Open.Torsdag - et par timer efter at Rune havde spillet sig videre - vandt Hugo Gaston over argentinske Pedro Gachin.Dermed står det klart, at Rune og Gaston tørner sammen i tredje runde. Franskmanden ligger aktuelt nummer 74 på verdens...   \n",
       "3  I dag kl. 15:40Vaccine til abekopper tilbydes uden EU-godkendelse - overlæge finder det forsvarligtLæs opOrdbogTekstAf Frederik PalleI morgen ankommer der 200 doser af medicinvirksomheden Bavarian Nordics vaccine mod abekopper til Danmark. Den er ikke godkendt i EU.Overlæge og professor Thomas Benfield fra Infektionsmedicinsk Afdeling på Hvidovre Hospital mener dog, at det vil være forsvarligt at tilbyde vaccinen til nære kontakter af smittede.- Den er godkendt andre steder. Og formålet - at forhindre at nogle bliver syge - opvejer efter min mening, at den endnu ikke er godkendt, siger han...   \n",
       "4  I dag kl. 15:12Flere testede solcremer indeholder stoffer mistænkt for at være hormonforstyrrendeLæs opOrdbogTekstAf Casper Lindbjerg GreveEn test fra Forbrugerrådet Tænk Kemi viser, at flere solcremer indeholder mere end blot beskyttelse mod solstrålerne.Ud af 35 testede solcremer og solspray med solfaktor 30 indeholdt en tredjedel af de testede solcremer stoffer, som mistænkes at være hormonforstyrrende.Solcremerne er ikke i sig selv farlige, men gravide må gerne tænke sig om, lyder det fra Anna-Maria Andersson, der er seniorforsker på Rigshospitalet.- Som gravid vil jeg overveje at tage...   \n",
       "\n",
       "  medie                 Filename  \n",
       "0    DR  articles_2022-05-26.csv  \n",
       "1    DR  articles_2022-05-26.csv  \n",
       "2    DR  articles_2022-05-26.csv  \n",
       "3    DR  articles_2022-05-26.csv  \n",
       "4    DR  articles_2022-05-26.csv  "
      ]
     },
     "execution_count": 3,
     "metadata": {},
     "output_type": "execute_result"
    }
   ],
   "source": [
    "article_df.head()"
   ]
  },
  {
   "cell_type": "code",
   "execution_count": 4,
   "id": "b8f93a4c-b359-4ee8-8152-7309c6ff4569",
   "metadata": {},
   "outputs": [
    {
     "name": "stdout",
     "output_type": "stream",
     "text": [
      "<class 'pandas.core.frame.DataFrame'>\n",
      "RangeIndex: 1819 entries, 0 to 1818\n",
      "Data columns (total 5 columns):\n",
      " #   Column    Non-Null Count  Dtype \n",
      "---  ------    --------------  ----- \n",
      " 0   link      1819 non-null   object\n",
      " 1   title     1819 non-null   object\n",
      " 2   content   1819 non-null   object\n",
      " 3   medie     1819 non-null   object\n",
      " 4   Filename  1819 non-null   object\n",
      "dtypes: object(5)\n",
      "memory usage: 71.2+ KB\n"
     ]
    }
   ],
   "source": [
    "article_df.info()"
   ]
  },
  {
   "cell_type": "code",
   "execution_count": 5,
   "id": "b9623465-6c83-4ee2-b07d-85cb6cb020cb",
   "metadata": {},
   "outputs": [],
   "source": [
    "def preprocess(sentence):\n",
    "    sentence=str(sentence)\n",
    "    \n",
    "    # Lowercase (not used due to named entity recognition)\n",
    "    #sentence = sentence.lower()\n",
    "    \n",
    "    # Cleaning\n",
    "    # html\n",
    "    sentence = sentence.replace('{html}',\" \")\n",
    "    # tags\n",
    "    sentence = re.sub(r'<.*?>', ' ', sentence)\n",
    "    # links\n",
    "    sentence = re.sub(r'http\\S+', ' ',sentence)\n",
    "    # numbers\n",
    "    sentence = re.sub('[0-9]+', ' ', sentence)\n",
    "    # specific non-content\n",
    "    sentence = re.sub(r'Læs opOrdbogTekstAf \\w* [A-Z][a-z]*','',sentence)\n",
    "    # newlines\n",
    "    sentence = re.sub('\\n',' ',sentence)\n",
    "    \n",
    "    return sentence"
   ]
  },
  {
   "cell_type": "code",
   "execution_count": 6,
   "id": "2c9f31a4-851d-4385-8272-e80617386ecc",
   "metadata": {},
   "outputs": [],
   "source": [
    "article_df['content_clean'] = article_df['content'].apply(preprocess)"
   ]
  },
  {
   "cell_type": "code",
   "execution_count": 7,
   "id": "6340dbe3-5ade-4604-95f4-5b2f1ed85d64",
   "metadata": {},
   "outputs": [],
   "source": [
    "# Find categories from link structure\n",
    "article_df['categories_list'] = article_df['link'].str.split('/').apply(lambda x: list(filter(None,x[3:-1])))"
   ]
  },
  {
   "cell_type": "code",
   "execution_count": 8,
   "id": "4b6b7f1a-e00a-4068-a2e9-7a62af5002f4",
   "metadata": {},
   "outputs": [],
   "source": [
    "article_df['category_1'] = article_df['categories_list'].str[0]\n",
    "article_df['category_2'] = article_df['categories_list'].str[1]"
   ]
  },
  {
   "cell_type": "markdown",
   "id": "57a19f90-97da-4727-b9da-115bf4446d0b",
   "metadata": {},
   "source": [
    "### Sentiment analysis"
   ]
  },
  {
   "cell_type": "code",
   "execution_count": 9,
   "id": "d8330c67-fa93-44fc-b983-2a5dac451c3f",
   "metadata": {},
   "outputs": [],
   "source": [
    "# Sentida model\n",
    "def get_sentiment(text):\n",
    "    SV = Sentida()\n",
    "    print(text[:60],end='\\r')\n",
    "    sentiment = SV.sentida(\n",
    "            text = text,\n",
    "            output = 'mean',\n",
    "            normal = False,\n",
    "            speed = 'normal')\n",
    "    return sentiment"
   ]
  },
  {
   "cell_type": "code",
   "execution_count": 10,
   "id": "d4597780-53c8-40e6-a50c-3473d1ce3864",
   "metadata": {
    "scrolled": true,
    "tags": []
   },
   "outputs": [
    {
     "data": {
      "application/vnd.jupyter.widget-view+json": {
       "model_id": "12f54b207de84cb498bb79c04c4fd5b2",
       "version_major": 2,
       "version_minor": 0
      },
      "text/plain": [
       "  0%|          | 0/1819 [00:00<?, ?it/s]"
      ]
     },
     "metadata": {},
     "output_type": "display_data"
    },
    {
     "name": "stdout",
     "output_type": "stream",
     "text": [
      " Lyt til artiklen Vil du lytte til artiklen? Køb et Digital \r"
     ]
    }
   ],
   "source": [
    "# Content sentiment\n",
    "article_df['sentiment_content'] = article_df['content_clean'].progress_apply(lambda x: get_sentiment(x))"
   ]
  },
  {
   "cell_type": "code",
   "execution_count": 11,
   "id": "bd954156-82ee-4381-83a8-084fabc0931c",
   "metadata": {},
   "outputs": [
    {
     "data": {
      "application/vnd.jupyter.widget-view+json": {
       "model_id": "6c9cb61877104c3ab9a0605560962e4c",
       "version_major": 2,
       "version_minor": 0
      },
      "text/plain": [
       "  0%|          | 0/1819 [00:00<?, ?it/s]"
      ]
     },
     "metadata": {},
     "output_type": "display_data"
    },
    {
     "name": "stdout",
     "output_type": "stream",
     "text": [
      " Prorussisk minister: Soldater fra Azovstal kan få dødsstraf\r"
     ]
    }
   ],
   "source": [
    "# Title sentiment\n",
    "article_df['sentiment_title'] = article_df['title'].progress_apply(lambda x: get_sentiment(x))"
   ]
  },
  {
   "cell_type": "markdown",
   "id": "466f053b-251b-4601-b668-fc5ddd839f89",
   "metadata": {
    "tags": []
   },
   "source": [
    "### Named Entity Recognition"
   ]
  },
  {
   "cell_type": "code",
   "execution_count": 12,
   "id": "2ff64eeb-e77c-4890-afb6-45388790b264",
   "metadata": {},
   "outputs": [],
   "source": [
    "# Loading spacy model - medium\n",
    "nlp = spacy.load('da_core_news_md')"
   ]
  },
  {
   "cell_type": "code",
   "execution_count": 13,
   "id": "13c5ced9-ea3a-479a-b14c-fac0c9621ee3",
   "metadata": {},
   "outputs": [
    {
     "data": {
      "application/vnd.jupyter.widget-view+json": {
       "model_id": "a4751f61a70941c69d11795cc6284202",
       "version_major": 2,
       "version_minor": 0
      },
      "text/plain": [
       "  0%|          | 0/1819 [00:00<?, ?it/s]"
      ]
     },
     "metadata": {},
     "output_type": "display_data"
    }
   ],
   "source": [
    "# Find Named Entities\n",
    "article_df['enti'] = article_df['content_clean'].progress_apply(lambda x: list(nlp(x).ents))"
   ]
  },
  {
   "cell_type": "code",
   "execution_count": 14,
   "id": "2c7ebede-db84-4128-a090-8ebecee2d419",
   "metadata": {},
   "outputs": [],
   "source": [
    "# Convert entities from list to string\n",
    "article_df['enti_str'] = [','.join(map(str, l)) for l in article_df['enti']]"
   ]
  },
  {
   "cell_type": "code",
   "execution_count": 15,
   "id": "1eb91b87-2728-42e0-bb25-d6798d9d44c0",
   "metadata": {},
   "outputs": [],
   "source": [
    "# Replace some special characters explicitly as these are not recognized as columns and my RegEx pattern unfortunately also removes æøå in the Danish language.\n",
    "article_df['enti_str'] = article_df['enti_str'].str.replace(\"'\", '',regex=False).str.replace(\".\", '',regex=False).str.replace(\"-\", '',regex=False).str.replace('\"', ' ',regex=False)"
   ]
  },
  {
   "cell_type": "code",
   "execution_count": 16,
   "id": "12f42bbb-e7ed-4457-beca-5200ee791bdc",
   "metadata": {},
   "outputs": [],
   "source": [
    "# Add Named Entities as columns\n",
    "def create_ent_cols(df,enti_col):\n",
    "    cv = CountVectorizer()\n",
    "    results = cv.fit_transform(df[enti_col])\n",
    "    features = cv.get_feature_names_out()\n",
    "    enti_df = pd.DataFrame(results.toarray(),columns=features)\n",
    "    art_df =  pd.concat([df.reset_index(drop=True),enti_df.reset_index(drop=True)],axis=1)\n",
    "    # Remove duplicated columns\n",
    "    return art_df.loc[:,~art_df.columns.duplicated()]"
   ]
  },
  {
   "cell_type": "code",
   "execution_count": 17,
   "id": "df9b7e80-3bb9-440a-9344-2bf77311b6c8",
   "metadata": {},
   "outputs": [],
   "source": [
    "article_df = create_ent_cols(article_df,'enti_str')"
   ]
  },
  {
   "cell_type": "code",
   "execution_count": 18,
   "id": "f9c2f965-3ee6-4acb-86c1-470f261dd4fe",
   "metadata": {},
   "outputs": [
    {
     "data": {
      "application/vnd.jupyter.widget-view+json": {
       "model_id": "485b5bbea4fa4c16b69ef7815deafcb4",
       "version_major": 2,
       "version_minor": 0
      },
      "text/plain": [
       "  0%|          | 0/1819 [00:00<?, ?it/s]"
      ]
     },
     "metadata": {},
     "output_type": "display_data"
    }
   ],
   "source": [
    "# Find entity types\n",
    "article_df['enti_type'] = article_df['content_clean'].progress_apply(lambda x: [x.label_ for x in list(nlp(x).ents)])"
   ]
  },
  {
   "cell_type": "code",
   "execution_count": 19,
   "id": "d4e25b08-050f-42af-9285-bd13b26fecb6",
   "metadata": {},
   "outputs": [],
   "source": [
    "# Iterate pairwise through all rows of lists\n",
    "enti_list = []\n",
    "enti_type_list = []\n",
    "for index, rows in article_df[['enti','enti_type']].iterrows():\n",
    "    enti_list.extend(rows['enti'])\n",
    "    enti_type_list.extend(rows['enti_type'])"
   ]
  },
  {
   "cell_type": "code",
   "execution_count": 20,
   "id": "0d9096b7-0ba9-429e-a60f-7c37a77b48e8",
   "metadata": {},
   "outputs": [],
   "source": [
    "# Cleanup for join\n",
    "enti_list = [str(x).lower().replace(\"'\", '').replace(\".\", '').replace(\"-\", '').replace('\"', ' ').replace(' ','') for x in enti_list]"
   ]
  },
  {
   "cell_type": "code",
   "execution_count": 21,
   "id": "57a82f15-00e3-4c69-9446-cd1e1ef37af7",
   "metadata": {},
   "outputs": [],
   "source": [
    "# Create entity type df\n",
    "enti_type_df = pd.DataFrame.from_dict(dict(zip(enti_list,enti_type_list)),orient='index',columns=['entity_type'])"
   ]
  },
  {
   "cell_type": "code",
   "execution_count": 22,
   "id": "ef6f7e3b-226f-4526-a2e4-f861929b1e2e",
   "metadata": {},
   "outputs": [],
   "source": [
    "# Find top entities\n",
    "def top_entities(enti_series):\n",
    "    cv = CountVectorizer()\n",
    "    results = cv.fit_transform(enti_series)\n",
    "    features = cv.get_feature_names_out()\n",
    "    enti_df = pd.DataFrame(results.toarray(),columns=features)\n",
    "    return enti_df.sum(axis=0).sort_values(ascending=False)"
   ]
  },
  {
   "cell_type": "code",
   "execution_count": 23,
   "id": "42572724-290b-4ef3-b167-5a180861fe58",
   "metadata": {
    "scrolled": true,
    "tags": []
   },
   "outputs": [],
   "source": [
    "top_eb = top_entities(article_df[article_df['medie'] == 'EB']['enti_str'])\n",
    "top_dr = top_entities(article_df[article_df['medie'] == 'DR']['enti_str'])\n",
    "top_bt = top_entities(article_df[article_df['medie'] == 'BT']['enti_str'])\n",
    "top_tv2 = top_entities(article_df[article_df['medie'] == 'TV2']['enti_str'])"
   ]
  },
  {
   "cell_type": "code",
   "execution_count": 24,
   "id": "2c3390da-3427-4114-b8d7-5219871920e5",
   "metadata": {},
   "outputs": [],
   "source": [
    "# Calculate average sentiment per entity\n",
    "def avg_sentiment(top_series,media):\n",
    "    avg_senti_dict = {}\n",
    "    avg_senti_dict_title = {}\n",
    "    for i in list(top_series.index):\n",
    "        avg = article_df[(article_df[i] != 0) & (article_df['medie'] == media)]['sentiment_content'].mean()\n",
    "        count = article_df[(article_df[i] != 0)  & (article_df['medie'] == media)]['sentiment_content'].count()\n",
    "        avg_senti_dict[i] = avg, count\n",
    "        \n",
    "        avg_title = article_df[(article_df[i] != 0)  & (article_df['medie'] == media)]['sentiment_title'].mean()\n",
    "        count_title = article_df[(article_df[i] != 0)  & (article_df['medie'] == media)]['sentiment_title'].count()\n",
    "        avg_senti_dict_title[i] = avg_title, count_title\n",
    "        \n",
    "    avg_senti_df = pd.DataFrame.from_dict(avg_senti_dict,orient='index',columns=['average_sentiment','count']).sort_values(by='average_sentiment')\n",
    "    avg_senti_title_df = pd.DataFrame.from_dict(avg_senti_dict_title,orient='index',columns=['average_sentiment_title','count_title']).sort_values(by='average_sentiment_title')\n",
    "    return pd.concat([avg_senti_df,avg_senti_title_df],axis=1)\n",
    "        "
   ]
  },
  {
   "cell_type": "code",
   "execution_count": 25,
   "id": "7bbfd10b-efe5-493c-9a2d-b329049fdf35",
   "metadata": {},
   "outputs": [],
   "source": [
    "senti_eb = avg_sentiment(top_eb,'EB')\n",
    "senti_dr = avg_sentiment(top_dr,'DR')\n",
    "senti_bt = avg_sentiment(top_bt,'BT')\n",
    "senti_tv2 = avg_sentiment(top_tv2,'TV2')"
   ]
  },
  {
   "cell_type": "code",
   "execution_count": 26,
   "id": "dcf3d675-b4de-4533-8cf2-9ca955871e3f",
   "metadata": {},
   "outputs": [],
   "source": [
    "senti_eb['medie'] = 'EB'\n",
    "senti_dr['medie'] = 'DR'\n",
    "senti_bt['medie'] = 'BT'\n",
    "senti_tv2['medie'] = 'TV2'"
   ]
  },
  {
   "cell_type": "code",
   "execution_count": 27,
   "id": "7e51cc7a-c81c-4508-b626-e6db704f7c40",
   "metadata": {},
   "outputs": [],
   "source": [
    "# Create entities dataset\n",
    "entities_df = pd.concat([senti_eb.reset_index(),senti_dr.reset_index(),senti_bt.reset_index(),senti_tv2.reset_index()],axis=0).rename(columns={'index':'entity'})\n",
    "entities_df = entities_df.join(enti_type_df, on='entity', how='left')"
   ]
  },
  {
   "cell_type": "markdown",
   "id": "a91ca67b-a825-402b-9fcb-369628a60ee8",
   "metadata": {},
   "source": [
    "### Concatenate and save dataset"
   ]
  },
  {
   "cell_type": "code",
   "execution_count": 28,
   "id": "51690afe-caeb-4a78-aaf6-a4779d383727",
   "metadata": {
    "scrolled": true,
    "tags": []
   },
   "outputs": [
    {
     "data": {
      "text/html": [
       "<div>\n",
       "<style scoped>\n",
       "    .dataframe tbody tr th:only-of-type {\n",
       "        vertical-align: middle;\n",
       "    }\n",
       "\n",
       "    .dataframe tbody tr th {\n",
       "        vertical-align: top;\n",
       "    }\n",
       "\n",
       "    .dataframe thead th {\n",
       "        text-align: right;\n",
       "    }\n",
       "</style>\n",
       "<table border=\"1\" class=\"dataframe\">\n",
       "  <thead>\n",
       "    <tr style=\"text-align: right;\">\n",
       "      <th></th>\n",
       "      <th>link</th>\n",
       "      <th>title</th>\n",
       "      <th>content</th>\n",
       "      <th>medie</th>\n",
       "      <th>Filename</th>\n",
       "      <th>content_clean</th>\n",
       "      <th>categories_list</th>\n",
       "      <th>category_1</th>\n",
       "      <th>category_2</th>\n",
       "      <th>sentiment_content</th>\n",
       "      <th>...</th>\n",
       "      <th>østrigs</th>\n",
       "      <th>østrigske</th>\n",
       "      <th>østrigungarske</th>\n",
       "      <th>østsjælland</th>\n",
       "      <th>østtimor</th>\n",
       "      <th>østukraine</th>\n",
       "      <th>øvlisen</th>\n",
       "      <th>володимир</th>\n",
       "      <th>зеленський</th>\n",
       "      <th>enti_type</th>\n",
       "    </tr>\n",
       "  </thead>\n",
       "  <tbody>\n",
       "    <tr>\n",
       "      <th>0</th>\n",
       "      <td>https://dr.dk//nyheder/seneste/filmstjernen-kevin-spacey-sigtet-fire-tilfaelde-af-seksuelle-overgreb</td>\n",
       "      <td>Filmstjernen Kevin Spacey sigtet for fire tilfælde af seksuelle overgreb</td>\n",
       "      <td>4 min. sidenFilmstjernen Kevin Spacey sigtet for fire tilfælde af seksuelle overgrebSkuespilleren Kevin Spacey har fået en del anklager imod sig om seksuelle overgreb, og nu er han også blevet sigtet. (Foto: SOCIAL MEDIA © Ritzau Scanpix)Læs opOrdbogTekstAf Frederik PalleDen britiske anklagemyndighed, Crown Prosecution Service, har i dag sigtet filmstjernen Kevin Spacey for fire tilfælde af seksuelle overgreb. Det skriver BBC.De seksuelle overgreb skulle være sket mod tre mænd.Kevin Spacey har i et langt stykke tid ikke været en del af film eller tv-serier på grund af andre anklager om ove...</td>\n",
       "      <td>DR</td>\n",
       "      <td>articles_2022-05-26.csv</td>\n",
       "      <td>min. sidenFilmstjernen Kevin Spacey sigtet for fire tilfælde af seksuelle overgrebSkuespilleren Kevin Spacey har fået en del anklager imod sig om seksuelle overgreb, og nu er han også blevet sigtet. (Foto: SOCIAL MEDIA © Ritzau Scanpix)Den britiske anklagemyndighed, Crown Prosecution Service, har i dag sigtet filmstjernen Kevin Spacey for fire tilfælde af seksuelle overgreb. Det skriver BBC.De seksuelle overgreb skulle være sket mod tre mænd.Kevin Spacey har i et langt stykke tid ikke været en del af film eller tv-serier på grund af andre anklager om overgreb mod både mænd og kvinder.Det...</td>\n",
       "      <td>[nyheder, seneste]</td>\n",
       "      <td>nyheder</td>\n",
       "      <td>seneste</td>\n",
       "      <td>-0.351654</td>\n",
       "      <td>...</td>\n",
       "      <td>0</td>\n",
       "      <td>0</td>\n",
       "      <td>0</td>\n",
       "      <td>0</td>\n",
       "      <td>0</td>\n",
       "      <td>0</td>\n",
       "      <td>0</td>\n",
       "      <td>0</td>\n",
       "      <td>0</td>\n",
       "      <td>[PER, PER, ORG, MISC, ORG, PER, PER, PER, PER, PER]</td>\n",
       "    </tr>\n",
       "    <tr>\n",
       "      <th>1</th>\n",
       "      <td>https://dr.dk//nyheder/seneste/kampe-i-den-ukrainske-region-donbas-er-paa-sit-hidtil-mest-voldsomme-niveau</td>\n",
       "      <td>Kampe i den ukrainske region Donbas er på sit hidtil mest voldsomme niveau</td>\n",
       "      <td>24 min. sidenKampe i den ukrainske region Donbas er på sit hidtil mest voldsomme niveauLæs opOrdbogTekstAf Frederik PalleSituationen i Donbas-regionen i Ukraine er yderst anspændt lige nu. Det siger Ukraines viceforsvarsminister Ganna Malyar på et pressemøde torsdag ifølge AFP.Hun forklarer, at kampene lige nu er på sit hidtil voldsomste niveau.- Kampene har nået maksimal intensitet. Fjendtlige styrker stormer vores styrkers positioner samtidig fra forskellige retninger. Vi har et ekstremt svært og langt stadie af kampe foran os, siger hun.De russiske styrker har fokuseret på Donbas-region...</td>\n",
       "      <td>DR</td>\n",
       "      <td>articles_2022-05-26.csv</td>\n",
       "      <td>min. sidenKampe i den ukrainske region Donbas er på sit hidtil mest voldsomme niveauSituationen i Donbas-regionen i Ukraine er yderst anspændt lige nu. Det siger Ukraines viceforsvarsminister Ganna Malyar på et pressemøde torsdag ifølge AFP.Hun forklarer, at kampene lige nu er på sit hidtil voldsomste niveau.- Kampene har nået maksimal intensitet. Fjendtlige styrker stormer vores styrkers positioner samtidig fra forskellige retninger. Vi har et ekstremt svært og langt stadie af kampe foran os, siger hun.De russiske styrker har fokuseret på Donbas-regionen den seneste tid, og viceforsvars...</td>\n",
       "      <td>[nyheder, seneste]</td>\n",
       "      <td>nyheder</td>\n",
       "      <td>seneste</td>\n",
       "      <td>-0.184483</td>\n",
       "      <td>...</td>\n",
       "      <td>0</td>\n",
       "      <td>0</td>\n",
       "      <td>0</td>\n",
       "      <td>0</td>\n",
       "      <td>0</td>\n",
       "      <td>0</td>\n",
       "      <td>0</td>\n",
       "      <td>0</td>\n",
       "      <td>0</td>\n",
       "      <td>[MISC, LOC, LOC, LOC, LOC, LOC, MISC, MISC, MISC, MISC]</td>\n",
       "    </tr>\n",
       "    <tr>\n",
       "      <th>2</th>\n",
       "      <td>https://dr.dk//sporten/seneste-sport/franskmand-venter-holger-rune-i-french-open</td>\n",
       "      <td>Holger Rune får fransk modstand i French Open</td>\n",
       "      <td>51 min. sidenHolger Rune får fransk modstand i French OpenHolger Rune møder franske Hugo Gaston, når danskeren skal spille sin kamp i tredje runde ved French Open. (Foto: Jean-Francois Badias © Associated Press)Læs opOrdbogTekstDer venter fransk modstand for Holger Rune, når det danske tennis-es skal i aktion i tredje runde ved grand slam-turneringen French Open.Torsdag - et par timer efter at Rune havde spillet sig videre - vandt Hugo Gaston over argentinske Pedro Gachin.Dermed står det klart, at Rune og Gaston tørner sammen i tredje runde. Franskmanden ligger aktuelt nummer 74 på verdens...</td>\n",
       "      <td>DR</td>\n",
       "      <td>articles_2022-05-26.csv</td>\n",
       "      <td>min. sidenHolger Rune får fransk modstand i French OpenHolger Rune møder franske Hugo Gaston, når danskeren skal spille sin kamp i tredje runde ved French Open. (Foto: Jean-Francois Badias © Associated Press)Læs opOrdbogTekstDer venter fransk modstand for Holger Rune, når det danske tennis-es skal i aktion i tredje runde ved grand slam-turneringen French Open.Torsdag - et par timer efter at Rune havde spillet sig videre - vandt Hugo Gaston over argentinske Pedro Gachin.Dermed står det klart, at Rune og Gaston tørner sammen i tredje runde. Franskmanden ligger aktuelt nummer   på verdensra...</td>\n",
       "      <td>[sporten, seneste-sport]</td>\n",
       "      <td>sporten</td>\n",
       "      <td>seneste-sport</td>\n",
       "      <td>0.168130</td>\n",
       "      <td>...</td>\n",
       "      <td>0</td>\n",
       "      <td>0</td>\n",
       "      <td>0</td>\n",
       "      <td>0</td>\n",
       "      <td>0</td>\n",
       "      <td>0</td>\n",
       "      <td>0</td>\n",
       "      <td>0</td>\n",
       "      <td>0</td>\n",
       "      <td>[PER, MISC, LOC, PER, MISC, PER, MISC, ORG, PER, ORG, MISC, PER, MISC, ORG, PER, PER, MISC, PER, PER, PER, PER, PER, ORG, PER, LOC, MISC, MISC, PER, PER, MISC, PER, ORG]</td>\n",
       "    </tr>\n",
       "    <tr>\n",
       "      <th>3</th>\n",
       "      <td>https://dr.dk//nyheder/seneste/vaccine-til-abekopper-tilbydes-uden-eu-godkendelse-overlaege-finder-det-forsvarligt</td>\n",
       "      <td>Vaccine til abekopper tilbydes uden EU-godkendelse - overlæge finder det forsvarligt</td>\n",
       "      <td>I dag kl. 15:40Vaccine til abekopper tilbydes uden EU-godkendelse - overlæge finder det forsvarligtLæs opOrdbogTekstAf Frederik PalleI morgen ankommer der 200 doser af medicinvirksomheden Bavarian Nordics vaccine mod abekopper til Danmark. Den er ikke godkendt i EU.Overlæge og professor Thomas Benfield fra Infektionsmedicinsk Afdeling på Hvidovre Hospital mener dog, at det vil være forsvarligt at tilbyde vaccinen til nære kontakter af smittede.- Den er godkendt andre steder. Og formålet - at forhindre at nogle bliver syge - opvejer efter min mening, at den endnu ikke er godkendt, siger han...</td>\n",
       "      <td>DR</td>\n",
       "      <td>articles_2022-05-26.csv</td>\n",
       "      <td>I dag kl.  : Vaccine til abekopper tilbydes uden EU-godkendelse - overlæge finder det forsvarligtI morgen ankommer der   doser af medicinvirksomheden Bavarian Nordics vaccine mod abekopper til Danmark. Den er ikke godkendt i EU.Overlæge og professor Thomas Benfield fra Infektionsmedicinsk Afdeling på Hvidovre Hospital mener dog, at det vil være forsvarligt at tilbyde vaccinen til nære kontakter af smittede.- Den er godkendt andre steder. Og formålet - at forhindre at nogle bliver syge - opvejer efter min mening, at den endnu ikke er godkendt, siger han til Ritzau.Det er sundhedsmyndigheder...</td>\n",
       "      <td>[nyheder, seneste]</td>\n",
       "      <td>nyheder</td>\n",
       "      <td>seneste</td>\n",
       "      <td>0.163095</td>\n",
       "      <td>...</td>\n",
       "      <td>0</td>\n",
       "      <td>0</td>\n",
       "      <td>0</td>\n",
       "      <td>0</td>\n",
       "      <td>0</td>\n",
       "      <td>0</td>\n",
       "      <td>0</td>\n",
       "      <td>0</td>\n",
       "      <td>0</td>\n",
       "      <td>[ORG, LOC, ORG, PER, ORG, LOC, ORG, ORG, ORG, MISC]</td>\n",
       "    </tr>\n",
       "    <tr>\n",
       "      <th>4</th>\n",
       "      <td>https://dr.dk//nyheder/seneste/flere-testede-solcremer-indeholder-stoffer-mistaenkt-vaere-hormonforstyrrende</td>\n",
       "      <td>Flere testede solcremer indeholder stoffer mistænkt for at være hormonforstyrrende</td>\n",
       "      <td>I dag kl. 15:12Flere testede solcremer indeholder stoffer mistænkt for at være hormonforstyrrendeLæs opOrdbogTekstAf Casper Lindbjerg GreveEn test fra Forbrugerrådet Tænk Kemi viser, at flere solcremer indeholder mere end blot beskyttelse mod solstrålerne.Ud af 35 testede solcremer og solspray med solfaktor 30 indeholdt en tredjedel af de testede solcremer stoffer, som mistænkes at være hormonforstyrrende.Solcremerne er ikke i sig selv farlige, men gravide må gerne tænke sig om, lyder det fra Anna-Maria Andersson, der er seniorforsker på Rigshospitalet.- Som gravid vil jeg overveje at tage...</td>\n",
       "      <td>DR</td>\n",
       "      <td>articles_2022-05-26.csv</td>\n",
       "      <td>I dag kl.  : Flere testede solcremer indeholder stoffer mistænkt for at være hormonforstyrrende GreveEn test fra Forbrugerrådet Tænk Kemi viser, at flere solcremer indeholder mere end blot beskyttelse mod solstrålerne.Ud af   testede solcremer og solspray med solfaktor   indeholdt en tredjedel af de testede solcremer stoffer, som mistænkes at være hormonforstyrrende.Solcremerne er ikke i sig selv farlige, men gravide må gerne tænke sig om, lyder det fra Anna-Maria Andersson, der er seniorforsker på Rigshospitalet.- Som gravid vil jeg overveje at tage et af de produkter, som ikke indeholder...</td>\n",
       "      <td>[nyheder, seneste]</td>\n",
       "      <td>nyheder</td>\n",
       "      <td>seneste</td>\n",
       "      <td>-0.055833</td>\n",
       "      <td>...</td>\n",
       "      <td>0</td>\n",
       "      <td>0</td>\n",
       "      <td>0</td>\n",
       "      <td>0</td>\n",
       "      <td>0</td>\n",
       "      <td>0</td>\n",
       "      <td>0</td>\n",
       "      <td>0</td>\n",
       "      <td>0</td>\n",
       "      <td>[ORG, PER, LOC]</td>\n",
       "    </tr>\n",
       "  </tbody>\n",
       "</table>\n",
       "<p>5 rows × 9222 columns</p>\n",
       "</div>"
      ],
      "text/plain": [
       "                                                                                                                 link  \\\n",
       "0                https://dr.dk//nyheder/seneste/filmstjernen-kevin-spacey-sigtet-fire-tilfaelde-af-seksuelle-overgreb   \n",
       "1          https://dr.dk//nyheder/seneste/kampe-i-den-ukrainske-region-donbas-er-paa-sit-hidtil-mest-voldsomme-niveau   \n",
       "2                                    https://dr.dk//sporten/seneste-sport/franskmand-venter-holger-rune-i-french-open   \n",
       "3  https://dr.dk//nyheder/seneste/vaccine-til-abekopper-tilbydes-uden-eu-godkendelse-overlaege-finder-det-forsvarligt   \n",
       "4        https://dr.dk//nyheder/seneste/flere-testede-solcremer-indeholder-stoffer-mistaenkt-vaere-hormonforstyrrende   \n",
       "\n",
       "                                                                                  title  \\\n",
       "0              Filmstjernen Kevin Spacey sigtet for fire tilfælde af seksuelle overgreb   \n",
       "1            Kampe i den ukrainske region Donbas er på sit hidtil mest voldsomme niveau   \n",
       "2                                         Holger Rune får fransk modstand i French Open   \n",
       "3  Vaccine til abekopper tilbydes uden EU-godkendelse - overlæge finder det forsvarligt   \n",
       "4    Flere testede solcremer indeholder stoffer mistænkt for at være hormonforstyrrende   \n",
       "\n",
       "                                                                                                                                                                                                                                                                                                                                                                                                                                                                                                                                                                                                                   content  \\\n",
       "0  4 min. sidenFilmstjernen Kevin Spacey sigtet for fire tilfælde af seksuelle overgrebSkuespilleren Kevin Spacey har fået en del anklager imod sig om seksuelle overgreb, og nu er han også blevet sigtet. (Foto: SOCIAL MEDIA © Ritzau Scanpix)Læs opOrdbogTekstAf Frederik PalleDen britiske anklagemyndighed, Crown Prosecution Service, har i dag sigtet filmstjernen Kevin Spacey for fire tilfælde af seksuelle overgreb. Det skriver BBC.De seksuelle overgreb skulle være sket mod tre mænd.Kevin Spacey har i et langt stykke tid ikke været en del af film eller tv-serier på grund af andre anklager om ove...   \n",
       "1  24 min. sidenKampe i den ukrainske region Donbas er på sit hidtil mest voldsomme niveauLæs opOrdbogTekstAf Frederik PalleSituationen i Donbas-regionen i Ukraine er yderst anspændt lige nu. Det siger Ukraines viceforsvarsminister Ganna Malyar på et pressemøde torsdag ifølge AFP.Hun forklarer, at kampene lige nu er på sit hidtil voldsomste niveau.- Kampene har nået maksimal intensitet. Fjendtlige styrker stormer vores styrkers positioner samtidig fra forskellige retninger. Vi har et ekstremt svært og langt stadie af kampe foran os, siger hun.De russiske styrker har fokuseret på Donbas-region...   \n",
       "2  51 min. sidenHolger Rune får fransk modstand i French OpenHolger Rune møder franske Hugo Gaston, når danskeren skal spille sin kamp i tredje runde ved French Open. (Foto: Jean-Francois Badias © Associated Press)Læs opOrdbogTekstDer venter fransk modstand for Holger Rune, når det danske tennis-es skal i aktion i tredje runde ved grand slam-turneringen French Open.Torsdag - et par timer efter at Rune havde spillet sig videre - vandt Hugo Gaston over argentinske Pedro Gachin.Dermed står det klart, at Rune og Gaston tørner sammen i tredje runde. Franskmanden ligger aktuelt nummer 74 på verdens...   \n",
       "3  I dag kl. 15:40Vaccine til abekopper tilbydes uden EU-godkendelse - overlæge finder det forsvarligtLæs opOrdbogTekstAf Frederik PalleI morgen ankommer der 200 doser af medicinvirksomheden Bavarian Nordics vaccine mod abekopper til Danmark. Den er ikke godkendt i EU.Overlæge og professor Thomas Benfield fra Infektionsmedicinsk Afdeling på Hvidovre Hospital mener dog, at det vil være forsvarligt at tilbyde vaccinen til nære kontakter af smittede.- Den er godkendt andre steder. Og formålet - at forhindre at nogle bliver syge - opvejer efter min mening, at den endnu ikke er godkendt, siger han...   \n",
       "4  I dag kl. 15:12Flere testede solcremer indeholder stoffer mistænkt for at være hormonforstyrrendeLæs opOrdbogTekstAf Casper Lindbjerg GreveEn test fra Forbrugerrådet Tænk Kemi viser, at flere solcremer indeholder mere end blot beskyttelse mod solstrålerne.Ud af 35 testede solcremer og solspray med solfaktor 30 indeholdt en tredjedel af de testede solcremer stoffer, som mistænkes at være hormonforstyrrende.Solcremerne er ikke i sig selv farlige, men gravide må gerne tænke sig om, lyder det fra Anna-Maria Andersson, der er seniorforsker på Rigshospitalet.- Som gravid vil jeg overveje at tage...   \n",
       "\n",
       "  medie                 Filename  \\\n",
       "0    DR  articles_2022-05-26.csv   \n",
       "1    DR  articles_2022-05-26.csv   \n",
       "2    DR  articles_2022-05-26.csv   \n",
       "3    DR  articles_2022-05-26.csv   \n",
       "4    DR  articles_2022-05-26.csv   \n",
       "\n",
       "                                                                                                                                                                                                                                                                                                                                                                                                                                                                                                                                                                                                             content_clean  \\\n",
       "0    min. sidenFilmstjernen Kevin Spacey sigtet for fire tilfælde af seksuelle overgrebSkuespilleren Kevin Spacey har fået en del anklager imod sig om seksuelle overgreb, og nu er han også blevet sigtet. (Foto: SOCIAL MEDIA © Ritzau Scanpix)Den britiske anklagemyndighed, Crown Prosecution Service, har i dag sigtet filmstjernen Kevin Spacey for fire tilfælde af seksuelle overgreb. Det skriver BBC.De seksuelle overgreb skulle være sket mod tre mænd.Kevin Spacey har i et langt stykke tid ikke været en del af film eller tv-serier på grund af andre anklager om overgreb mod både mænd og kvinder.Det...   \n",
       "1    min. sidenKampe i den ukrainske region Donbas er på sit hidtil mest voldsomme niveauSituationen i Donbas-regionen i Ukraine er yderst anspændt lige nu. Det siger Ukraines viceforsvarsminister Ganna Malyar på et pressemøde torsdag ifølge AFP.Hun forklarer, at kampene lige nu er på sit hidtil voldsomste niveau.- Kampene har nået maksimal intensitet. Fjendtlige styrker stormer vores styrkers positioner samtidig fra forskellige retninger. Vi har et ekstremt svært og langt stadie af kampe foran os, siger hun.De russiske styrker har fokuseret på Donbas-regionen den seneste tid, og viceforsvars...   \n",
       "2    min. sidenHolger Rune får fransk modstand i French OpenHolger Rune møder franske Hugo Gaston, når danskeren skal spille sin kamp i tredje runde ved French Open. (Foto: Jean-Francois Badias © Associated Press)Læs opOrdbogTekstDer venter fransk modstand for Holger Rune, når det danske tennis-es skal i aktion i tredje runde ved grand slam-turneringen French Open.Torsdag - et par timer efter at Rune havde spillet sig videre - vandt Hugo Gaston over argentinske Pedro Gachin.Dermed står det klart, at Rune og Gaston tørner sammen i tredje runde. Franskmanden ligger aktuelt nummer   på verdensra...   \n",
       "3  I dag kl.  : Vaccine til abekopper tilbydes uden EU-godkendelse - overlæge finder det forsvarligtI morgen ankommer der   doser af medicinvirksomheden Bavarian Nordics vaccine mod abekopper til Danmark. Den er ikke godkendt i EU.Overlæge og professor Thomas Benfield fra Infektionsmedicinsk Afdeling på Hvidovre Hospital mener dog, at det vil være forsvarligt at tilbyde vaccinen til nære kontakter af smittede.- Den er godkendt andre steder. Og formålet - at forhindre at nogle bliver syge - opvejer efter min mening, at den endnu ikke er godkendt, siger han til Ritzau.Det er sundhedsmyndigheder...   \n",
       "4  I dag kl.  : Flere testede solcremer indeholder stoffer mistænkt for at være hormonforstyrrende GreveEn test fra Forbrugerrådet Tænk Kemi viser, at flere solcremer indeholder mere end blot beskyttelse mod solstrålerne.Ud af   testede solcremer og solspray med solfaktor   indeholdt en tredjedel af de testede solcremer stoffer, som mistænkes at være hormonforstyrrende.Solcremerne er ikke i sig selv farlige, men gravide må gerne tænke sig om, lyder det fra Anna-Maria Andersson, der er seniorforsker på Rigshospitalet.- Som gravid vil jeg overveje at tage et af de produkter, som ikke indeholder...   \n",
       "\n",
       "            categories_list category_1     category_2  sentiment_content  ...  \\\n",
       "0        [nyheder, seneste]    nyheder        seneste          -0.351654  ...   \n",
       "1        [nyheder, seneste]    nyheder        seneste          -0.184483  ...   \n",
       "2  [sporten, seneste-sport]    sporten  seneste-sport           0.168130  ...   \n",
       "3        [nyheder, seneste]    nyheder        seneste           0.163095  ...   \n",
       "4        [nyheder, seneste]    nyheder        seneste          -0.055833  ...   \n",
       "\n",
       "   østrigs østrigske østrigungarske  østsjælland  østtimor  østukraine  \\\n",
       "0        0         0              0            0         0           0   \n",
       "1        0         0              0            0         0           0   \n",
       "2        0         0              0            0         0           0   \n",
       "3        0         0              0            0         0           0   \n",
       "4        0         0              0            0         0           0   \n",
       "\n",
       "   øvlisen  володимир  зеленський  \\\n",
       "0        0          0           0   \n",
       "1        0          0           0   \n",
       "2        0          0           0   \n",
       "3        0          0           0   \n",
       "4        0          0           0   \n",
       "\n",
       "                                                                                                                                                                   enti_type  \n",
       "0                                                                                                                        [PER, PER, ORG, MISC, ORG, PER, PER, PER, PER, PER]  \n",
       "1                                                                                                                    [MISC, LOC, LOC, LOC, LOC, LOC, MISC, MISC, MISC, MISC]  \n",
       "2  [PER, MISC, LOC, PER, MISC, PER, MISC, ORG, PER, ORG, MISC, PER, MISC, ORG, PER, PER, MISC, PER, PER, PER, PER, PER, ORG, PER, LOC, MISC, MISC, PER, PER, MISC, PER, ORG]  \n",
       "3                                                                                                                        [ORG, LOC, ORG, PER, ORG, LOC, ORG, ORG, ORG, MISC]  \n",
       "4                                                                                                                                                            [ORG, PER, LOC]  \n",
       "\n",
       "[5 rows x 9222 columns]"
      ]
     },
     "execution_count": 28,
     "metadata": {},
     "output_type": "execute_result"
    }
   ],
   "source": [
    "article_df.head()"
   ]
  },
  {
   "cell_type": "code",
   "execution_count": 29,
   "id": "d01e2e97-9fb1-4463-8d34-92d54c55490f",
   "metadata": {},
   "outputs": [
    {
     "data": {
      "text/html": [
       "<div>\n",
       "<style scoped>\n",
       "    .dataframe tbody tr th:only-of-type {\n",
       "        vertical-align: middle;\n",
       "    }\n",
       "\n",
       "    .dataframe tbody tr th {\n",
       "        vertical-align: top;\n",
       "    }\n",
       "\n",
       "    .dataframe thead th {\n",
       "        text-align: right;\n",
       "    }\n",
       "</style>\n",
       "<table border=\"1\" class=\"dataframe\">\n",
       "  <thead>\n",
       "    <tr style=\"text-align: right;\">\n",
       "      <th></th>\n",
       "      <th>entity</th>\n",
       "      <th>average_sentiment</th>\n",
       "      <th>count</th>\n",
       "      <th>average_sentiment_title</th>\n",
       "      <th>count_title</th>\n",
       "      <th>medie</th>\n",
       "      <th>entity_type</th>\n",
       "    </tr>\n",
       "  </thead>\n",
       "  <tbody>\n",
       "    <tr>\n",
       "      <th>0</th>\n",
       "      <td>trondhjem</td>\n",
       "      <td>-1.219355</td>\n",
       "      <td>1</td>\n",
       "      <td>-0.2</td>\n",
       "      <td>1</td>\n",
       "      <td>EB</td>\n",
       "      <td>LOC</td>\n",
       "    </tr>\n",
       "    <tr>\n",
       "      <th>1</th>\n",
       "      <td>mohammed</td>\n",
       "      <td>-1.219355</td>\n",
       "      <td>1</td>\n",
       "      <td>-0.2</td>\n",
       "      <td>1</td>\n",
       "      <td>EB</td>\n",
       "      <td>PER</td>\n",
       "    </tr>\n",
       "    <tr>\n",
       "      <th>2</th>\n",
       "      <td>göteborgposten</td>\n",
       "      <td>-1.219355</td>\n",
       "      <td>1</td>\n",
       "      <td>-0.2</td>\n",
       "      <td>1</td>\n",
       "      <td>EB</td>\n",
       "      <td>MISC</td>\n",
       "    </tr>\n",
       "    <tr>\n",
       "      <th>3</th>\n",
       "      <td>arild</td>\n",
       "      <td>-1.219355</td>\n",
       "      <td>1</td>\n",
       "      <td>-0.2</td>\n",
       "      <td>1</td>\n",
       "      <td>EB</td>\n",
       "      <td>NaN</td>\n",
       "    </tr>\n",
       "    <tr>\n",
       "      <th>4</th>\n",
       "      <td>bohuslän</td>\n",
       "      <td>-1.219355</td>\n",
       "      <td>1</td>\n",
       "      <td>-0.2</td>\n",
       "      <td>1</td>\n",
       "      <td>EB</td>\n",
       "      <td>LOC</td>\n",
       "    </tr>\n",
       "  </tbody>\n",
       "</table>\n",
       "</div>"
      ],
      "text/plain": [
       "           entity  average_sentiment  count  average_sentiment_title  \\\n",
       "0       trondhjem          -1.219355      1                     -0.2   \n",
       "1        mohammed          -1.219355      1                     -0.2   \n",
       "2  göteborgposten          -1.219355      1                     -0.2   \n",
       "3           arild          -1.219355      1                     -0.2   \n",
       "4        bohuslän          -1.219355      1                     -0.2   \n",
       "\n",
       "   count_title medie entity_type  \n",
       "0            1    EB         LOC  \n",
       "1            1    EB         PER  \n",
       "2            1    EB        MISC  \n",
       "3            1    EB         NaN  \n",
       "4            1    EB         LOC  "
      ]
     },
     "execution_count": 29,
     "metadata": {},
     "output_type": "execute_result"
    }
   ],
   "source": [
    "entities_df.head()"
   ]
  },
  {
   "cell_type": "code",
   "execution_count": 30,
   "id": "5983c0ba-81f7-4b12-8794-ddd3ff8243bb",
   "metadata": {},
   "outputs": [],
   "source": [
    "article_df_simple = article_df[['link', 'title', 'content', 'medie', 'Filename','content_clean', 'sentiment_content', 'sentiment_title', 'enti_str','category_1','category_2']]"
   ]
  },
  {
   "cell_type": "code",
   "execution_count": 31,
   "id": "91adf9ec-c4a8-4e2a-929b-6a996da249a1",
   "metadata": {},
   "outputs": [],
   "source": [
    "def save_df(yn,df,name,path):\n",
    "    dd = str(datetime.date.today())\n",
    "    if not os.path.exists(path):\n",
    "        os.mkdir(path)\n",
    "    if yn == True:\n",
    "        df.to_csv('{}\\{}_{}.csv'.format(path,name,dd),index=False,encoding='utf-8')\n",
    "        print('Saved')\n",
    "    else:\n",
    "        print('Not saved')      "
   ]
  },
  {
   "cell_type": "code",
   "execution_count": 32,
   "id": "e0ca6797-ae32-4fbc-8de4-16ec048a8c2e",
   "metadata": {},
   "outputs": [
    {
     "name": "stdout",
     "output_type": "stream",
     "text": [
      "Saved\n",
      "Saved\n",
      "Saved\n"
     ]
    }
   ],
   "source": [
    "save_df(True,article_df,'sentiment_articles',r'D:\\sentiment')\n",
    "save_df(True,article_df_simple,'sentiment_articles_simple',r'D:\\sentiment')\n",
    "save_df(True,entities_df,'sentiment_entities',r'D:\\sentiment')"
   ]
  },
  {
   "cell_type": "markdown",
   "id": "6cc481cd-72d7-4b7b-a6da-af22e194e93f",
   "metadata": {
    "tags": []
   },
   "source": [
    "### Results - brief edition"
   ]
  },
  {
   "cell_type": "markdown",
   "id": "d5e4f586-e93d-453d-995d-7c3eba3e71c1",
   "metadata": {},
   "source": [
    "The following results will only be brief, as I have analyzed more thoroughly in Tableau, which I find much better for exploration."
   ]
  },
  {
   "cell_type": "markdown",
   "id": "32e2e495-c675-4b0c-aa06-e3a1652055fd",
   "metadata": {},
   "source": [
    "**Sentiment by media**"
   ]
  },
  {
   "cell_type": "code",
   "execution_count": 33,
   "id": "e6fdc09d-409d-43ac-92a4-fddfda937ac7",
   "metadata": {},
   "outputs": [
    {
     "data": {
      "image/png": "[encoded data removed]",
      "text/plain": [
       "<Figure size 432x288 with 1 Axes>"
      ]
     },
     "metadata": {
      "needs_background": "light"
     },
     "output_type": "display_data"
    }
   ],
   "source": [
    "sns.barplot(x=\"medie\", y='sentiment_content', data=article_df, ci=None, estimator=np.mean)\n",
    "plt.title('Sentiment based on content')\n",
    "plt.show()"
   ]
  },
  {
   "cell_type": "markdown",
   "id": "830d3bad-d01a-4464-8f67-6536473a99db",
   "metadata": {},
   "source": [
    "Interestingly, I would have thought Ekstrabladet to have the most negative sentiment in content. However, EB is by far the most positive."
   ]
  },
  {
   "cell_type": "code",
   "execution_count": 34,
   "id": "8e9bd1bf-1be1-4d3a-ace4-e1486ccb38d1",
   "metadata": {},
   "outputs": [
    {
     "data": {
      "image/png": "[encoded data removed]",
      "text/plain": [
       "<Figure size 432x288 with 1 Axes>"
      ]
     },
     "metadata": {
      "needs_background": "light"
     },
     "output_type": "display_data"
    }
   ],
   "source": [
    "sns.barplot(x=\"medie\", y='sentiment_title', data=article_df, ci=None, estimator=np.mean)\n",
    "plt.title('Sentiment based on title')\n",
    "plt.show()"
   ]
  },
  {
   "cell_type": "markdown",
   "id": "ccb552a5-163b-4233-a5b5-217b47d8208c",
   "metadata": {},
   "source": [
    "If instead we look at titles or headlines, TV2 and EB is the most negative.  \n",
    "In general, titles have negative sentiment, whereas content is positive. I suspect this is caused by at least two things:  \n",
    "1) Titles in general have to provoke abit more.\n",
    "2) The SENTIDA sentiment model is slightly skewed towards positive words, which may be most pronounced when the analyzed text is longer."
   ]
  },
  {
   "cell_type": "markdown",
   "id": "9cc44892-a7b3-46d6-ad2c-14a827fd077e",
   "metadata": {},
   "source": [
    "**Sentiment by entity**"
   ]
  },
  {
   "cell_type": "code",
   "execution_count": 35,
   "id": "e22024ff-7f73-4dcb-9fb2-ba98a732f449",
   "metadata": {},
   "outputs": [],
   "source": [
    "# Find top entities by sentiment with count threshold\n",
    "def find_top(df,count,top):\n",
    "    return df[df['count'] > count].sort_values(by='average_sentiment',ascending=False)[:top]"
   ]
  },
  {
   "cell_type": "code",
   "execution_count": 36,
   "id": "7af01678-cfe5-46a9-87e3-a802764fb73c",
   "metadata": {},
   "outputs": [],
   "source": [
    "# Find bottom entities by sentiment with count threshold\n",
    "def find_bottom(df,count,bottom):\n",
    "    return df[df['count'] > count].sort_values(by='average_sentiment')[:bottom]    "
   ]
  },
  {
   "cell_type": "code",
   "execution_count": 37,
   "id": "0874c87d-fafa-465a-bb33-9963c675abd7",
   "metadata": {},
   "outputs": [
    {
     "data": {
      "text/html": [
       "<div>\n",
       "<style scoped>\n",
       "    .dataframe tbody tr th:only-of-type {\n",
       "        vertical-align: middle;\n",
       "    }\n",
       "\n",
       "    .dataframe tbody tr th {\n",
       "        vertical-align: top;\n",
       "    }\n",
       "\n",
       "    .dataframe thead th {\n",
       "        text-align: right;\n",
       "    }\n",
       "</style>\n",
       "<table border=\"1\" class=\"dataframe\">\n",
       "  <thead>\n",
       "    <tr style=\"text-align: right;\">\n",
       "      <th></th>\n",
       "      <th>entity</th>\n",
       "      <th>average_sentiment</th>\n",
       "    </tr>\n",
       "  </thead>\n",
       "  <tbody>\n",
       "    <tr>\n",
       "      <th>2091</th>\n",
       "      <td>champions</td>\n",
       "      <td>0.652470</td>\n",
       "    </tr>\n",
       "    <tr>\n",
       "      <th>2041</th>\n",
       "      <td>league</td>\n",
       "      <td>0.632773</td>\n",
       "    </tr>\n",
       "    <tr>\n",
       "      <th>1997</th>\n",
       "      <td>vm</td>\n",
       "      <td>0.606357</td>\n",
       "    </tr>\n",
       "    <tr>\n",
       "      <th>1991</th>\n",
       "      <td>rune</td>\n",
       "      <td>0.602243</td>\n",
       "    </tr>\n",
       "    <tr>\n",
       "      <th>1913</th>\n",
       "      <td>danskeren</td>\n",
       "      <td>0.579228</td>\n",
       "    </tr>\n",
       "    <tr>\n",
       "      <th>1908</th>\n",
       "      <td>holger</td>\n",
       "      <td>0.577154</td>\n",
       "    </tr>\n",
       "    <tr>\n",
       "      <th>1885</th>\n",
       "      <td>danmarks</td>\n",
       "      <td>0.557609</td>\n",
       "    </tr>\n",
       "    <tr>\n",
       "      <th>1882</th>\n",
       "      <td>qatar</td>\n",
       "      <td>0.557283</td>\n",
       "    </tr>\n",
       "    <tr>\n",
       "      <th>1879</th>\n",
       "      <td>michel</td>\n",
       "      <td>0.555402</td>\n",
       "    </tr>\n",
       "    <tr>\n",
       "      <th>1844</th>\n",
       "      <td>french</td>\n",
       "      <td>0.552569</td>\n",
       "    </tr>\n",
       "    <tr>\n",
       "      <th>1843</th>\n",
       "      <td>københavn</td>\n",
       "      <td>0.551870</td>\n",
       "    </tr>\n",
       "    <tr>\n",
       "      <th>1840</th>\n",
       "      <td>platini</td>\n",
       "      <td>0.545288</td>\n",
       "    </tr>\n",
       "    <tr>\n",
       "      <th>1839</th>\n",
       "      <td>open</td>\n",
       "      <td>0.542759</td>\n",
       "    </tr>\n",
       "    <tr>\n",
       "      <th>1812</th>\n",
       "      <td>lars</td>\n",
       "      <td>0.522402</td>\n",
       "    </tr>\n",
       "    <tr>\n",
       "      <th>1757</th>\n",
       "      <td>fc</td>\n",
       "      <td>0.497355</td>\n",
       "    </tr>\n",
       "    <tr>\n",
       "      <th>1754</th>\n",
       "      <td>paris</td>\n",
       "      <td>0.492297</td>\n",
       "    </tr>\n",
       "    <tr>\n",
       "      <th>4423</th>\n",
       "      <td>udenrigsministeriet</td>\n",
       "      <td>0.488318</td>\n",
       "    </tr>\n",
       "    <tr>\n",
       "      <th>4376</th>\n",
       "      <td>finans</td>\n",
       "      <td>0.471313</td>\n",
       "    </tr>\n",
       "    <tr>\n",
       "      <th>3145</th>\n",
       "      <td>løkke</td>\n",
       "      <td>0.435534</td>\n",
       "    </tr>\n",
       "    <tr>\n",
       "      <th>3137</th>\n",
       "      <td>socialdemokratiet</td>\n",
       "      <td>0.427922</td>\n",
       "    </tr>\n",
       "  </tbody>\n",
       "</table>\n",
       "</div>"
      ],
      "text/plain": [
       "                   entity  average_sentiment\n",
       "2091            champions           0.652470\n",
       "2041               league           0.632773\n",
       "1997                   vm           0.606357\n",
       "1991                 rune           0.602243\n",
       "1913            danskeren           0.579228\n",
       "1908               holger           0.577154\n",
       "1885             danmarks           0.557609\n",
       "1882                qatar           0.557283\n",
       "1879               michel           0.555402\n",
       "1844               french           0.552569\n",
       "1843            københavn           0.551870\n",
       "1840              platini           0.545288\n",
       "1839                 open           0.542759\n",
       "1812                 lars           0.522402\n",
       "1757                   fc           0.497355\n",
       "1754                paris           0.492297\n",
       "4423  udenrigsministeriet           0.488318\n",
       "4376               finans           0.471313\n",
       "3145                løkke           0.435534\n",
       "3137    socialdemokratiet           0.427922"
      ]
     },
     "execution_count": 37,
     "metadata": {},
     "output_type": "execute_result"
    }
   ],
   "source": [
    "find_top(entities_df,10,20)[['entity','average_sentiment']]"
   ]
  },
  {
   "cell_type": "markdown",
   "id": "c1cbca2a-7681-4c86-8a97-bc8915c8bc0a",
   "metadata": {},
   "source": [
    "The most positive entities seem to be related to football, Lars Løkke, Socialdemokratiet and of course Denmark (which may actually also be related to football)."
   ]
  },
  {
   "cell_type": "code",
   "execution_count": 38,
   "id": "f331af9a-d691-433d-a538-16d57331d70b",
   "metadata": {},
   "outputs": [
    {
     "data": {
      "text/html": [
       "<div>\n",
       "<style scoped>\n",
       "    .dataframe tbody tr th:only-of-type {\n",
       "        vertical-align: middle;\n",
       "    }\n",
       "\n",
       "    .dataframe tbody tr th {\n",
       "        vertical-align: top;\n",
       "    }\n",
       "\n",
       "    .dataframe thead th {\n",
       "        text-align: right;\n",
       "    }\n",
       "</style>\n",
       "<table border=\"1\" class=\"dataframe\">\n",
       "  <thead>\n",
       "    <tr style=\"text-align: right;\">\n",
       "      <th></th>\n",
       "      <th>entity</th>\n",
       "      <th>average_sentiment</th>\n",
       "    </tr>\n",
       "  </thead>\n",
       "  <tbody>\n",
       "    <tr>\n",
       "      <th>171</th>\n",
       "      <td>texas</td>\n",
       "      <td>-0.413199</td>\n",
       "    </tr>\n",
       "    <tr>\n",
       "      <th>259</th>\n",
       "      <td>uvalde</td>\n",
       "      <td>-0.312989</td>\n",
       "    </tr>\n",
       "    <tr>\n",
       "      <th>350</th>\n",
       "      <td>robb</td>\n",
       "      <td>-0.284058</td>\n",
       "    </tr>\n",
       "    <tr>\n",
       "      <th>349</th>\n",
       "      <td>elementary</td>\n",
       "      <td>-0.284058</td>\n",
       "    </tr>\n",
       "    <tr>\n",
       "      <th>426</th>\n",
       "      <td>uvalde</td>\n",
       "      <td>-0.281515</td>\n",
       "    </tr>\n",
       "    <tr>\n",
       "      <th>433</th>\n",
       "      <td>texas</td>\n",
       "      <td>-0.269835</td>\n",
       "    </tr>\n",
       "    <tr>\n",
       "      <th>414</th>\n",
       "      <td>uvalde</td>\n",
       "      <td>-0.250176</td>\n",
       "    </tr>\n",
       "    <tr>\n",
       "      <th>354</th>\n",
       "      <td>politi</td>\n",
       "      <td>-0.248953</td>\n",
       "    </tr>\n",
       "    <tr>\n",
       "      <th>561</th>\n",
       "      <td>politi</td>\n",
       "      <td>-0.188335</td>\n",
       "    </tr>\n",
       "    <tr>\n",
       "      <th>604</th>\n",
       "      <td>texas</td>\n",
       "      <td>-0.187886</td>\n",
       "    </tr>\n",
       "    <tr>\n",
       "      <th>238</th>\n",
       "      <td>reuters</td>\n",
       "      <td>-0.180746</td>\n",
       "    </tr>\n",
       "    <tr>\n",
       "      <th>665</th>\n",
       "      <td>new</td>\n",
       "      <td>-0.141607</td>\n",
       "    </tr>\n",
       "    <tr>\n",
       "      <th>282</th>\n",
       "      <td>rusland</td>\n",
       "      <td>-0.134660</td>\n",
       "    </tr>\n",
       "    <tr>\n",
       "      <th>336</th>\n",
       "      <td>russiske</td>\n",
       "      <td>-0.134057</td>\n",
       "    </tr>\n",
       "    <tr>\n",
       "      <th>791</th>\n",
       "      <td>landsret</td>\n",
       "      <td>-0.132977</td>\n",
       "    </tr>\n",
       "    <tr>\n",
       "      <th>798</th>\n",
       "      <td>byret</td>\n",
       "      <td>-0.130814</td>\n",
       "    </tr>\n",
       "    <tr>\n",
       "      <th>806</th>\n",
       "      <td>anklagemyndigheden</td>\n",
       "      <td>-0.127759</td>\n",
       "    </tr>\n",
       "    <tr>\n",
       "      <th>812</th>\n",
       "      <td>katja</td>\n",
       "      <td>-0.125965</td>\n",
       "    </tr>\n",
       "    <tr>\n",
       "      <th>813</th>\n",
       "      <td>mejborn</td>\n",
       "      <td>-0.125936</td>\n",
       "    </tr>\n",
       "    <tr>\n",
       "      <th>763</th>\n",
       "      <td>usas</td>\n",
       "      <td>-0.118692</td>\n",
       "    </tr>\n",
       "  </tbody>\n",
       "</table>\n",
       "</div>"
      ],
      "text/plain": [
       "                 entity  average_sentiment\n",
       "171               texas          -0.413199\n",
       "259              uvalde          -0.312989\n",
       "350                robb          -0.284058\n",
       "349          elementary          -0.284058\n",
       "426              uvalde          -0.281515\n",
       "433               texas          -0.269835\n",
       "414              uvalde          -0.250176\n",
       "354              politi          -0.248953\n",
       "561              politi          -0.188335\n",
       "604               texas          -0.187886\n",
       "238             reuters          -0.180746\n",
       "665                 new          -0.141607\n",
       "282             rusland          -0.134660\n",
       "336            russiske          -0.134057\n",
       "791            landsret          -0.132977\n",
       "798               byret          -0.130814\n",
       "806  anklagemyndigheden          -0.127759\n",
       "812               katja          -0.125965\n",
       "813             mejborn          -0.125936\n",
       "763                usas          -0.118692"
      ]
     },
     "execution_count": 38,
     "metadata": {},
     "output_type": "execute_result"
    }
   ],
   "source": [
    "find_bottom(entities_df,10,20)[['entity','average_sentiment']][['entity','average_sentiment']]"
   ]
  },
  {
   "cell_type": "markdown",
   "id": "310acec8-2257-439e-bcdb-f7b4ae37e46e",
   "metadata": {},
   "source": [
    "The most negative entities relate to police, crime, shootings and Russia, which is unsurprising."
   ]
  },
  {
   "cell_type": "code",
   "execution_count": 39,
   "id": "ae702475-afb9-4497-a208-fed81aefb75e",
   "metadata": {},
   "outputs": [
    {
     "data": {
      "image/png": "[encoded data removed]",
      "text/plain": [
       "<Figure size 432x288 with 1 Axes>"
      ]
     },
     "metadata": {
      "needs_background": "light"
     },
     "output_type": "display_data"
    }
   ],
   "source": [
    "sns.barplot(x='medie', y='average_sentiment', data=entities_df, hue='entity_type', ci=None, estimator=np.mean,orient='v')\n",
    "plt.title('Sentiment by entity type')\n",
    "plt.show()"
   ]
  },
  {
   "cell_type": "markdown",
   "id": "a5269d7f-951a-47e8-956e-07b1260d3845",
   "metadata": {},
   "source": [
    "Locations seem to get lower sentiment, whereas persons generally get higher sentiment."
   ]
  },
  {
   "cell_type": "markdown",
   "id": "cb643f41-456c-40fd-b363-68bd84f98f06",
   "metadata": {},
   "source": [
    "**Sentiment by category**"
   ]
  },
  {
   "cell_type": "code",
   "execution_count": 40,
   "id": "52c91c2b-3c95-4d2a-94e4-2e224429d607",
   "metadata": {},
   "outputs": [
    {
     "data": {
      "image/png": "[encoded data removed]",
      "text/plain": [
       "<Figure size 432x288 with 1 Axes>"
      ]
     },
     "metadata": {
      "needs_background": "light"
     },
     "output_type": "display_data"
    }
   ],
   "source": [
    "sns.barplot(x='sentiment_content', y='category_1', data=article_df, ci=None, estimator=np.mean,orient='h')\n",
    "plt.title('Sentiment by category')\n",
    "plt.show()"
   ]
  },
  {
   "cell_type": "markdown",
   "id": "4622860d-a91b-4d5d-9a78-ab3c5f359fa1",
   "metadata": {},
   "source": [
    "The most positive categories are \"videnskab\",\"forbrug\" and \"underholdning\". The most negative are \"krimi\", \"ferie\", \"penge\". Bye, bye summer holiday."
   ]
  },
  {
   "cell_type": "markdown",
   "id": "3241ea9e-4fd6-4fb1-8852-64e10d442141",
   "metadata": {},
   "source": [
    "### Various preliminary \"common sense\" tests"
   ]
  },
  {
   "cell_type": "markdown",
   "id": "6770602c-160d-4c8f-89dd-8184d374e9f7",
   "metadata": {},
   "source": [
    "**Testing Sentida**"
   ]
  },
  {
   "cell_type": "code",
   "execution_count": 41,
   "id": "e5fb8223-2b71-4467-9db5-502a5f0326b8",
   "metadata": {},
   "outputs": [
    {
     "name": "stdout",
     "output_type": "stream",
     "text": [
      "Jeg er sulten\r"
     ]
    },
    {
     "data": {
      "text/plain": [
       "-2.55555555555556"
      ]
     },
     "execution_count": 41,
     "metadata": {},
     "output_type": "execute_result"
    }
   ],
   "source": [
    "get_sentiment('Jeg er sulten')"
   ]
  },
  {
   "cell_type": "code",
   "execution_count": 42,
   "id": "be097244-bad1-4041-a177-ab1442c61c6c",
   "metadata": {},
   "outputs": [
    {
     "name": "stdout",
     "output_type": "stream",
     "text": [
      "Jeg er mæt\r"
     ]
    },
    {
     "data": {
      "text/plain": [
       "1.0"
      ]
     },
     "execution_count": 42,
     "metadata": {},
     "output_type": "execute_result"
    }
   ],
   "source": [
    "get_sentiment('Jeg er mæt')"
   ]
  },
  {
   "cell_type": "markdown",
   "id": "3d6535aa-9987-4419-bec3-c2e2bc5b16a4",
   "metadata": {},
   "source": [
    "**Testing spaCy**"
   ]
  },
  {
   "cell_type": "code",
   "execution_count": 43,
   "id": "763fad98-e932-4030-9c17-568dc4381a2a",
   "metadata": {},
   "outputs": [],
   "source": [
    "doc = nlp(\"Jeg hedder Lars. Skal vi spise på McDonald's eller Christiansborg?\")"
   ]
  },
  {
   "cell_type": "code",
   "execution_count": 44,
   "id": "58249c5a-0193-4ab7-bd72-3de935fceb92",
   "metadata": {},
   "outputs": [
    {
     "data": {
      "text/html": [
       "<span class=\"tex2jax_ignore\"><div class=\"entities\" style=\"line-height: 2.5; direction: ltr\">Jeg hedder \n",
       "<mark class=\"entity\" style=\"background: #ddd; padding: 0.45em 0.6em; margin: 0 0.25em; line-height: 1; border-radius: 0.35em;\">\n",
       "    Lars\n",
       "    <span style=\"font-size: 0.8em; font-weight: bold; line-height: 1; border-radius: 0.35em; vertical-align: middle; margin-left: 0.5rem\">PER</span>\n",
       "</mark>\n",
       ". Skal vi spise på \n",
       "<mark class=\"entity\" style=\"background: #ff9561; padding: 0.45em 0.6em; margin: 0 0.25em; line-height: 1; border-radius: 0.35em;\">\n",
       "    McDonald's\n",
       "    <span style=\"font-size: 0.8em; font-weight: bold; line-height: 1; border-radius: 0.35em; vertical-align: middle; margin-left: 0.5rem\">LOC</span>\n",
       "</mark>\n",
       " eller \n",
       "<mark class=\"entity\" style=\"background: #ff9561; padding: 0.45em 0.6em; margin: 0 0.25em; line-height: 1; border-radius: 0.35em;\">\n",
       "    Christiansborg\n",
       "    <span style=\"font-size: 0.8em; font-weight: bold; line-height: 1; border-radius: 0.35em; vertical-align: middle; margin-left: 0.5rem\">LOC</span>\n",
       "</mark>\n",
       "?</div></span>"
      ],
      "text/plain": [
       "<IPython.core.display.HTML object>"
      ]
     },
     "metadata": {},
     "output_type": "display_data"
    }
   ],
   "source": [
    "spacy.displacy.render(doc, style=\"ent\")"
   ]
  },
  {
   "cell_type": "code",
   "execution_count": 45,
   "id": "6c7296d2-f629-406e-b43f-9c5e8148ec20",
   "metadata": {},
   "outputs": [
    {
     "data": {
      "text/html": [
       "<span class=\"tex2jax_ignore\"><svg xmlns=\"http://www.w3.org/2000/svg\" xmlns:xlink=\"http://www.w3.org/1999/xlink\" xml:lang=\"da\" id=\"661aed6751ff4b4fa3b26638f59dc020-0\" class=\"displacy\" width=\"1800\" height=\"312.0\" direction=\"ltr\" style=\"max-width: none; height: 312.0px; color: #000000; background: #ffffff; font-family: Arial; direction: ltr\">\n",
       "<text class=\"displacy-token\" fill=\"currentColor\" text-anchor=\"middle\" y=\"222.0\">\n",
       "    <tspan class=\"displacy-word\" fill=\"currentColor\" x=\"50\">Jeg</tspan>\n",
       "    <tspan class=\"displacy-tag\" dy=\"2em\" fill=\"currentColor\" x=\"50\">PRON</tspan>\n",
       "</text>\n",
       "\n",
       "<text class=\"displacy-token\" fill=\"currentColor\" text-anchor=\"middle\" y=\"222.0\">\n",
       "    <tspan class=\"displacy-word\" fill=\"currentColor\" x=\"225\">hedder</tspan>\n",
       "    <tspan class=\"displacy-tag\" dy=\"2em\" fill=\"currentColor\" x=\"225\">VERB</tspan>\n",
       "</text>\n",
       "\n",
       "<text class=\"displacy-token\" fill=\"currentColor\" text-anchor=\"middle\" y=\"222.0\">\n",
       "    <tspan class=\"displacy-word\" fill=\"currentColor\" x=\"400\">Lars.</tspan>\n",
       "    <tspan class=\"displacy-tag\" dy=\"2em\" fill=\"currentColor\" x=\"400\">PROPN</tspan>\n",
       "</text>\n",
       "\n",
       "<text class=\"displacy-token\" fill=\"currentColor\" text-anchor=\"middle\" y=\"222.0\">\n",
       "    <tspan class=\"displacy-word\" fill=\"currentColor\" x=\"575\">Skal</tspan>\n",
       "    <tspan class=\"displacy-tag\" dy=\"2em\" fill=\"currentColor\" x=\"575\">AUX</tspan>\n",
       "</text>\n",
       "\n",
       "<text class=\"displacy-token\" fill=\"currentColor\" text-anchor=\"middle\" y=\"222.0\">\n",
       "    <tspan class=\"displacy-word\" fill=\"currentColor\" x=\"750\">vi</tspan>\n",
       "    <tspan class=\"displacy-tag\" dy=\"2em\" fill=\"currentColor\" x=\"750\">PRON</tspan>\n",
       "</text>\n",
       "\n",
       "<text class=\"displacy-token\" fill=\"currentColor\" text-anchor=\"middle\" y=\"222.0\">\n",
       "    <tspan class=\"displacy-word\" fill=\"currentColor\" x=\"925\">spise</tspan>\n",
       "    <tspan class=\"displacy-tag\" dy=\"2em\" fill=\"currentColor\" x=\"925\">VERB</tspan>\n",
       "</text>\n",
       "\n",
       "<text class=\"displacy-token\" fill=\"currentColor\" text-anchor=\"middle\" y=\"222.0\">\n",
       "    <tspan class=\"displacy-word\" fill=\"currentColor\" x=\"1100\">på</tspan>\n",
       "    <tspan class=\"displacy-tag\" dy=\"2em\" fill=\"currentColor\" x=\"1100\">ADP</tspan>\n",
       "</text>\n",
       "\n",
       "<text class=\"displacy-token\" fill=\"currentColor\" text-anchor=\"middle\" y=\"222.0\">\n",
       "    <tspan class=\"displacy-word\" fill=\"currentColor\" x=\"1275\">McDonald's</tspan>\n",
       "    <tspan class=\"displacy-tag\" dy=\"2em\" fill=\"currentColor\" x=\"1275\">PROPN</tspan>\n",
       "</text>\n",
       "\n",
       "<text class=\"displacy-token\" fill=\"currentColor\" text-anchor=\"middle\" y=\"222.0\">\n",
       "    <tspan class=\"displacy-word\" fill=\"currentColor\" x=\"1450\">eller</tspan>\n",
       "    <tspan class=\"displacy-tag\" dy=\"2em\" fill=\"currentColor\" x=\"1450\">CCONJ</tspan>\n",
       "</text>\n",
       "\n",
       "<text class=\"displacy-token\" fill=\"currentColor\" text-anchor=\"middle\" y=\"222.0\">\n",
       "    <tspan class=\"displacy-word\" fill=\"currentColor\" x=\"1625\">Christiansborg?</tspan>\n",
       "    <tspan class=\"displacy-tag\" dy=\"2em\" fill=\"currentColor\" x=\"1625\">PROPN</tspan>\n",
       "</text>\n",
       "\n",
       "<g class=\"displacy-arrow\">\n",
       "    <path class=\"displacy-arc\" id=\"arrow-661aed6751ff4b4fa3b26638f59dc020-0-0\" stroke-width=\"2px\" d=\"M70,177.0 C70,89.5 220.0,89.5 220.0,177.0\" fill=\"none\" stroke=\"currentColor\"/>\n",
       "    <text dy=\"1.25em\" style=\"font-size: 0.8em; letter-spacing: 1px\">\n",
       "        <textPath xlink:href=\"#arrow-661aed6751ff4b4fa3b26638f59dc020-0-0\" class=\"displacy-label\" startOffset=\"50%\" side=\"left\" fill=\"currentColor\" text-anchor=\"middle\">nsubj</textPath>\n",
       "    </text>\n",
       "    <path class=\"displacy-arrowhead\" d=\"M70,179.0 L62,167.0 78,167.0\" fill=\"currentColor\"/>\n",
       "</g>\n",
       "\n",
       "<g class=\"displacy-arrow\">\n",
       "    <path class=\"displacy-arc\" id=\"arrow-661aed6751ff4b4fa3b26638f59dc020-0-1\" stroke-width=\"2px\" d=\"M245,177.0 C245,89.5 395.0,89.5 395.0,177.0\" fill=\"none\" stroke=\"currentColor\"/>\n",
       "    <text dy=\"1.25em\" style=\"font-size: 0.8em; letter-spacing: 1px\">\n",
       "        <textPath xlink:href=\"#arrow-661aed6751ff4b4fa3b26638f59dc020-0-1\" class=\"displacy-label\" startOffset=\"50%\" side=\"left\" fill=\"currentColor\" text-anchor=\"middle\">obj</textPath>\n",
       "    </text>\n",
       "    <path class=\"displacy-arrowhead\" d=\"M395.0,179.0 L403.0,167.0 387.0,167.0\" fill=\"currentColor\"/>\n",
       "</g>\n",
       "\n",
       "<g class=\"displacy-arrow\">\n",
       "    <path class=\"displacy-arc\" id=\"arrow-661aed6751ff4b4fa3b26638f59dc020-0-2\" stroke-width=\"2px\" d=\"M595,177.0 C595,2.0 925.0,2.0 925.0,177.0\" fill=\"none\" stroke=\"currentColor\"/>\n",
       "    <text dy=\"1.25em\" style=\"font-size: 0.8em; letter-spacing: 1px\">\n",
       "        <textPath xlink:href=\"#arrow-661aed6751ff4b4fa3b26638f59dc020-0-2\" class=\"displacy-label\" startOffset=\"50%\" side=\"left\" fill=\"currentColor\" text-anchor=\"middle\">aux</textPath>\n",
       "    </text>\n",
       "    <path class=\"displacy-arrowhead\" d=\"M595,179.0 L587,167.0 603,167.0\" fill=\"currentColor\"/>\n",
       "</g>\n",
       "\n",
       "<g class=\"displacy-arrow\">\n",
       "    <path class=\"displacy-arc\" id=\"arrow-661aed6751ff4b4fa3b26638f59dc020-0-3\" stroke-width=\"2px\" d=\"M770,177.0 C770,89.5 920.0,89.5 920.0,177.0\" fill=\"none\" stroke=\"currentColor\"/>\n",
       "    <text dy=\"1.25em\" style=\"font-size: 0.8em; letter-spacing: 1px\">\n",
       "        <textPath xlink:href=\"#arrow-661aed6751ff4b4fa3b26638f59dc020-0-3\" class=\"displacy-label\" startOffset=\"50%\" side=\"left\" fill=\"currentColor\" text-anchor=\"middle\">nsubj</textPath>\n",
       "    </text>\n",
       "    <path class=\"displacy-arrowhead\" d=\"M770,179.0 L762,167.0 778,167.0\" fill=\"currentColor\"/>\n",
       "</g>\n",
       "\n",
       "<g class=\"displacy-arrow\">\n",
       "    <path class=\"displacy-arc\" id=\"arrow-661aed6751ff4b4fa3b26638f59dc020-0-4\" stroke-width=\"2px\" d=\"M1120,177.0 C1120,89.5 1270.0,89.5 1270.0,177.0\" fill=\"none\" stroke=\"currentColor\"/>\n",
       "    <text dy=\"1.25em\" style=\"font-size: 0.8em; letter-spacing: 1px\">\n",
       "        <textPath xlink:href=\"#arrow-661aed6751ff4b4fa3b26638f59dc020-0-4\" class=\"displacy-label\" startOffset=\"50%\" side=\"left\" fill=\"currentColor\" text-anchor=\"middle\">case</textPath>\n",
       "    </text>\n",
       "    <path class=\"displacy-arrowhead\" d=\"M1120,179.0 L1112,167.0 1128,167.0\" fill=\"currentColor\"/>\n",
       "</g>\n",
       "\n",
       "<g class=\"displacy-arrow\">\n",
       "    <path class=\"displacy-arc\" id=\"arrow-661aed6751ff4b4fa3b26638f59dc020-0-5\" stroke-width=\"2px\" d=\"M945,177.0 C945,2.0 1275.0,2.0 1275.0,177.0\" fill=\"none\" stroke=\"currentColor\"/>\n",
       "    <text dy=\"1.25em\" style=\"font-size: 0.8em; letter-spacing: 1px\">\n",
       "        <textPath xlink:href=\"#arrow-661aed6751ff4b4fa3b26638f59dc020-0-5\" class=\"displacy-label\" startOffset=\"50%\" side=\"left\" fill=\"currentColor\" text-anchor=\"middle\">obl</textPath>\n",
       "    </text>\n",
       "    <path class=\"displacy-arrowhead\" d=\"M1275.0,179.0 L1283.0,167.0 1267.0,167.0\" fill=\"currentColor\"/>\n",
       "</g>\n",
       "\n",
       "<g class=\"displacy-arrow\">\n",
       "    <path class=\"displacy-arc\" id=\"arrow-661aed6751ff4b4fa3b26638f59dc020-0-6\" stroke-width=\"2px\" d=\"M1470,177.0 C1470,89.5 1620.0,89.5 1620.0,177.0\" fill=\"none\" stroke=\"currentColor\"/>\n",
       "    <text dy=\"1.25em\" style=\"font-size: 0.8em; letter-spacing: 1px\">\n",
       "        <textPath xlink:href=\"#arrow-661aed6751ff4b4fa3b26638f59dc020-0-6\" class=\"displacy-label\" startOffset=\"50%\" side=\"left\" fill=\"currentColor\" text-anchor=\"middle\">cc</textPath>\n",
       "    </text>\n",
       "    <path class=\"displacy-arrowhead\" d=\"M1470,179.0 L1462,167.0 1478,167.0\" fill=\"currentColor\"/>\n",
       "</g>\n",
       "\n",
       "<g class=\"displacy-arrow\">\n",
       "    <path class=\"displacy-arc\" id=\"arrow-661aed6751ff4b4fa3b26638f59dc020-0-7\" stroke-width=\"2px\" d=\"M1295,177.0 C1295,2.0 1625.0,2.0 1625.0,177.0\" fill=\"none\" stroke=\"currentColor\"/>\n",
       "    <text dy=\"1.25em\" style=\"font-size: 0.8em; letter-spacing: 1px\">\n",
       "        <textPath xlink:href=\"#arrow-661aed6751ff4b4fa3b26638f59dc020-0-7\" class=\"displacy-label\" startOffset=\"50%\" side=\"left\" fill=\"currentColor\" text-anchor=\"middle\">conj</textPath>\n",
       "    </text>\n",
       "    <path class=\"displacy-arrowhead\" d=\"M1625.0,179.0 L1633.0,167.0 1617.0,167.0\" fill=\"currentColor\"/>\n",
       "</g>\n",
       "</svg></span>"
      ],
      "text/plain": [
       "<IPython.core.display.HTML object>"
      ]
     },
     "metadata": {},
     "output_type": "display_data"
    }
   ],
   "source": [
    "spacy.displacy.render(doc, style=\"dep\")"
   ]
  },
  {
   "cell_type": "code",
   "execution_count": 46,
   "id": "45be485a-d29e-4d63-98da-d7b39bd38cd4",
   "metadata": {},
   "outputs": [
    {
     "name": "stdout",
     "output_type": "stream",
     "text": [
      "Jeg\n",
      "hedde\n",
      "Lars\n",
      ".\n",
      "Skal\n",
      "vi\n",
      "spise\n",
      "på\n",
      "McDonald's\n",
      "eller\n",
      "Christiansborg\n",
      "?\n"
     ]
    }
   ],
   "source": [
    "for token in doc:\n",
    "    print(token.lemma_)"
   ]
  },
  {
   "cell_type": "markdown",
   "id": "bb428763-698b-406b-b3f6-087a972acdaf",
   "metadata": {},
   "source": [
    "**Testing sentiment on various known texts for baseline**"
   ]
  },
  {
   "cell_type": "markdown",
   "id": "9e3ac5b0-63a5-49d6-befa-1f5f4f4d136b",
   "metadata": {},
   "source": [
    "Mr. Beans julekrybben"
   ]
  },
  {
   "cell_type": "code",
   "execution_count": 47,
   "id": "5a314e29-a4a5-4807-a497-78c0cb3ae1c3",
   "metadata": {},
   "outputs": [],
   "source": [
    "#https://blog.cbs.dk/mrbean-korpus/?page_id=35#Danske%20skriftlige%20tekster"
   ]
  },
  {
   "cell_type": "code",
   "execution_count": 48,
   "id": "5d52fcea-d2fb-4570-9af3-5c71ca439794",
   "metadata": {
    "scrolled": true,
    "tags": []
   },
   "outputs": [],
   "source": [
    "mr_bean = 'Det uddrag vi blev forevist, begynder med en scene der foregår i et supermarked. Miljøet er et stort rum der er udsmykket med julerelekvier, f.eks. julehjerter,pyntegran. I\\\n",
    "3   bagggrunden hører man musik der ville være typisk for et indkøbcenter i juletiden (julemusik\\\n",
    "4   omsat til muszak). Op¬mærksomheden samles om en mandsfigur der kommer listende ind i billedet\\\n",
    "5   fra baggrunden. Som mands-personen bevæger sig fremad zoomer kameraet ud og i forgrunden\\\n",
    "6   fremkommer et krybbespil, dvs. figurer der forestiller jesusbarnets fødsel i laden ved Bethlehem.\\\n",
    "7   Kameraet zoomer ud således at kun krybbespillet og mandspersonens, der nu står ummiddelbart\\\n",
    "8   bag krybbespillet, hænder er synlige. Manden begynder at lege med figurerne. I begyndelsen er\\\n",
    "9   legen at en figur “laver en lyd”, hvor mandspersonen selv bevæger figuren og frembringer lyden.\\\n",
    "10  En anden figur,også styret af mandspersonen, kommer hen og “tysser” på den første figur. Denne\\\n",
    "11  leg bliver skabt i flere kombinationer, f.eks. hvor en af de tre vise mænd, der er en del af\\\n",
    "12  krybbespillet, “synger” en sang, bliver han standset af de to andre. Legens hovedformål er dog i\\\n",
    "13  hele denne fase at fremstille larmen og de reaktioner den fremkalder.\\\n",
    "14           Efter den\\\n",
    "første fase, hvor forstyrrelsen fremkommer fra en kilde indefra laden,\\\n",
    "bevæger\\\n",
    "15  legen sig over i en fase hvor forstyrrelsen frem¬kommer fra en ekstern kilde. Den første scene\\\n",
    "16  indledes med at mands¬personen nynner en et stykke militærmusik, fra højre fremkommer nu et\\\n",
    "17  stykke legetøj der forestiller et militærorkester. Reaktionen er nu ikke tyssen, men en af dukkerne i\\\n",
    "18  krybbespillet trænder frem og lader militæror¬kesteret defilere forbi, som havde denne figur været\\\n",
    "19  orkesterets øverst¬kommanderen¬de. Efter orkesterets sortie fremkommer nu først et får derefter\\\n",
    "20  flere får, hvor mands personen laver “fårelyde” (bræger som et får). Fra venstre frem¬kommer nu\\\n",
    "21  en legetøjs lastbil, der bakker op til fårene.\\\n",
    "22  Fra højre fremkommer en legetøjs fårehund og fra venstre en fårehyrde. De driver i forening\\\n",
    "23  fårene op i lastbilen, der forsvinder ud til venstre. Fra venstre fører personen en legetøjs dinosauro\\\n",
    "24  ind i krybbespillet. Personen lader dinosauroen true jesusfiguren, der ligger i en krybbe.\\\n",
    "25  Kameraet zoomer ud og personen fører en legetøjs helikopter med en legetøjsfigur, der forestiller\\\n",
    "26  helligåndnen, hængende under sig. Gennem et hul i loftet sænkes helligånddsfigureren og ved\\\n",
    "27  hjælp af en magnet medtages jesusfiguren.\\\n",
    "28           Dette\\\n",
    "bringer historien over i den tredie fase. Efter undsættelsen bringes\\\n",
    "jesusfiguren\\\n",
    "29  over i et andet miljø. Fra det rustikke lademiljø over til et dagligstuemiljø, stadigvæk som legetøj.\\\n",
    "30\\\n",
    "Ummiddelbart herefter opstår historiens klimaks. Man hører en højlydt\\\n",
    "rømmen,\\\n",
    "31  hvorefter kameraet zoomer ud og man ser nu to mands¬personer, hvoraf den ene er den tidligere\\\n",
    "32  præsenterede. Den anden står til venstre for denne og kigger bebrejende på den første.'"
   ]
  },
  {
   "cell_type": "code",
   "execution_count": 49,
   "id": "67e5090f-ed72-4a1f-887c-68ceb785a85b",
   "metadata": {},
   "outputs": [
    {
     "name": "stdout",
     "output_type": "stream",
     "text": [
      "Det uddrag vi blev forevist, begynder med en scene der foreg\r"
     ]
    },
    {
     "data": {
      "text/plain": [
       "0.2061218584656083"
      ]
     },
     "execution_count": 49,
     "metadata": {},
     "output_type": "execute_result"
    }
   ],
   "source": [
    "get_sentiment(mr_bean)"
   ]
  },
  {
   "cell_type": "markdown",
   "id": "b2094dcf-ffdc-418f-a43e-94fb7bc74ef0",
   "metadata": {},
   "source": [
    "Peters jul - vers 1-2"
   ]
  },
  {
   "cell_type": "code",
   "execution_count": 50,
   "id": "15af1aa6-40bc-4f6f-8712-25596a6a3259",
   "metadata": {},
   "outputs": [],
   "source": [
    "peters_jul = \"Jeg glæder mig i denne Tid\\\n",
    "nu falder Julesneen hvid,\\\n",
    "og så må julen komme!\\\n",
    "Min Far hver Dag i Byen går,\\\n",
    "og når han kommer hjem, jeg står\\\n",
    "og ser hans store lomme.\\\n",
    "\\\n",
    "Og paa hans bord forleden dag\\\n",
    "jeg så et yndigt, lille Flag,\\\n",
    "og det jeg ikke glemmer.\\\n",
    "Papir han klipper med en Saks;\\\n",
    "men naar jeg kommer ind, han straks\\\n",
    "sin Stads i Skuffen gemmer.\""
   ]
  },
  {
   "cell_type": "code",
   "execution_count": 51,
   "id": "27431522-2bd7-4dfb-99e7-a6883f173bcc",
   "metadata": {},
   "outputs": [
    {
     "name": "stdout",
     "output_type": "stream",
     "text": [
      "Jeg glæder mig i denne Tidnu falder Julesneen hvid,og så må \r"
     ]
    },
    {
     "data": {
      "text/plain": [
       "0.10687771323529377"
      ]
     },
     "execution_count": 51,
     "metadata": {},
     "output_type": "execute_result"
    }
   ],
   "source": [
    "get_sentiment(peters_jul)"
   ]
  },
  {
   "cell_type": "markdown",
   "id": "a0a821f7-6222-4843-8da6-766d654ce718",
   "metadata": {},
   "source": [
    "Den lille pige med svovlstikkerne"
   ]
  },
  {
   "cell_type": "code",
   "execution_count": 52,
   "id": "a5ad2f00-5a8e-467a-97c3-d19d7fbc9615",
   "metadata": {},
   "outputs": [],
   "source": [
    "with open(r'D:\\Datasets\\svovlstikkerne.txt', 'r',encoding='utf-8') as f:\n",
    "    svovlstikkerne = f.readlines()\n",
    "f.close()"
   ]
  },
  {
   "cell_type": "code",
   "execution_count": 53,
   "id": "42081e63-efaa-464f-a0ed-c149dc4c2128",
   "metadata": {},
   "outputs": [
    {
     "name": "stdout",
     "output_type": "stream",
     "text": [
      "['Det var så grueligt koldt. Det sneede og det begyndte at b\r"
     ]
    },
    {
     "data": {
      "text/plain": [
       "0.5680735913980035"
      ]
     },
     "execution_count": 53,
     "metadata": {},
     "output_type": "execute_result"
    }
   ],
   "source": [
    "get_sentiment(str(svovlstikkerne))"
   ]
  },
  {
   "cell_type": "markdown",
   "id": "c8ddee09-f573-44cc-8fce-86828bd00fd6",
   "metadata": {},
   "source": [
    "I must admit I did not expect the most positive sentiment for the last text."
   ]
  },
  {
   "cell_type": "code",
   "execution_count": null,
   "id": "e49cb558-fb0d-4307-aa16-4bd493460581",
   "metadata": {},
   "outputs": [],
   "source": []
  }
 ],
 "metadata": {
  "kernelspec": {
   "display_name": "Python 3 (ipykernel)",
   "language": "python",
   "name": "python3"
  },
  "language_info": {
   "codemirror_mode": {
    "name": "ipython",
    "version": 3
   },
   "file_extension": ".py",
   "mimetype": "text/x-python",
   "name": "python",
   "nbconvert_exporter": "python",
   "pygments_lexer": "ipython3",
   "version": "3.9.12"
  }
 },
 "nbformat": 4,
 "nbformat_minor": 5
}
